{
 "cells": [
  {
   "cell_type": "code",
   "execution_count": 14,
   "metadata": {},
   "outputs": [
    {
     "name": "stdout",
     "output_type": "stream",
     "text": [
      "The nb_black extension is already loaded. To reload it, use:\n",
      "  %reload_ext nb_black\n"
     ]
    },
    {
     "data": {
      "application/javascript": "\n            setTimeout(function() {\n                var nbb_cell_id = 14;\n                var nbb_unformatted_code = \"# To prettify python code (python syntax is already pretty of course ;) )\\n# --> https://pypi.org/project/nb-black/\\n%load_ext nb_black\";\n                var nbb_formatted_code = \"# To prettify python code (python syntax is already pretty of course ;) )\\n# --> https://pypi.org/project/nb-black/\\n%load_ext nb_black\";\n                var nbb_cells = Jupyter.notebook.get_cells();\n                for (var i = 0; i < nbb_cells.length; ++i) {\n                    if (nbb_cells[i].input_prompt_number == nbb_cell_id) {\n                        if (nbb_cells[i].get_text() == nbb_unformatted_code) {\n                             nbb_cells[i].set_text(nbb_formatted_code);\n                        }\n                        break;\n                    }\n                }\n            }, 500);\n            ",
      "text/plain": [
       "<IPython.core.display.Javascript object>"
      ]
     },
     "metadata": {},
     "output_type": "display_data"
    }
   ],
   "source": [
    "# To prettify python code (python syntax is already pretty of course ;) )\n",
    "# --> https://pypi.org/project/nb-black/\n",
    "%load_ext nb_black"
   ]
  },
  {
   "cell_type": "code",
   "execution_count": 15,
   "metadata": {},
   "outputs": [
    {
     "data": {
      "application/javascript": "\n            setTimeout(function() {\n                var nbb_cell_id = 15;\n                var nbb_unformatted_code = \"import os\\nimport pandas as pd\";\n                var nbb_formatted_code = \"import os\\nimport pandas as pd\";\n                var nbb_cells = Jupyter.notebook.get_cells();\n                for (var i = 0; i < nbb_cells.length; ++i) {\n                    if (nbb_cells[i].input_prompt_number == nbb_cell_id) {\n                        if (nbb_cells[i].get_text() == nbb_unformatted_code) {\n                             nbb_cells[i].set_text(nbb_formatted_code);\n                        }\n                        break;\n                    }\n                }\n            }, 500);\n            ",
      "text/plain": [
       "<IPython.core.display.Javascript object>"
      ]
     },
     "metadata": {},
     "output_type": "display_data"
    }
   ],
   "source": [
    "import os\n",
    "import pandas as pd"
   ]
  },
  {
   "cell_type": "code",
   "execution_count": 16,
   "metadata": {
    "scrolled": true
   },
   "outputs": [
    {
     "name": "stdout",
     "output_type": "stream",
     "text": [
      "acquisition.tsv\t\t\thardware.tsv\t   visualization.tsv\r\n",
      "channel_electrode_choice.tsv\tmeasurements.tsv\r\n",
      "experimental_design_sample.tsv\tpreprocessing.tsv\r\n"
     ]
    },
    {
     "data": {
      "application/javascript": "\n            setTimeout(function() {\n                var nbb_cell_id = 16;\n                var nbb_unformatted_code = \"!ls ../../inputs/csv/artemis\";\n                var nbb_formatted_code = \"!ls ../../inputs/csv/artemis\";\n                var nbb_cells = Jupyter.notebook.get_cells();\n                for (var i = 0; i < nbb_cells.length; ++i) {\n                    if (nbb_cells[i].input_prompt_number == nbb_cell_id) {\n                        if (nbb_cells[i].get_text() == nbb_unformatted_code) {\n                             nbb_cells[i].set_text(nbb_formatted_code);\n                        }\n                        break;\n                    }\n                }\n            }, 500);\n            ",
      "text/plain": [
       "<IPython.core.display.Javascript object>"
      ]
     },
     "metadata": {},
     "output_type": "display_data"
    }
   ],
   "source": [
    "!ls ../ecobidas/inputs/csv/artemis"
   ]
  },
  {
   "cell_type": "code",
   "execution_count": 17,
   "metadata": {},
   "outputs": [
    {
     "data": {
      "application/javascript": "\n            setTimeout(function() {\n                var nbb_cell_id = 17;\n                var nbb_unformatted_code = \"input_path = os.path.join(\\\"..\\\", \\\"..\\\", \\\"inputs\\\", \\\"csv\\\")\\ninput_file = os.path.join(input_path, \\\"artemis\\\", \\\"hardware.tsv\\\")\";\n                var nbb_formatted_code = \"input_path = os.path.join(\\\"..\\\", \\\"..\\\", \\\"inputs\\\", \\\"csv\\\")\\ninput_file = os.path.join(input_path, \\\"artemis\\\", \\\"hardware.tsv\\\")\";\n                var nbb_cells = Jupyter.notebook.get_cells();\n                for (var i = 0; i < nbb_cells.length; ++i) {\n                    if (nbb_cells[i].input_prompt_number == nbb_cell_id) {\n                        if (nbb_cells[i].get_text() == nbb_unformatted_code) {\n                             nbb_cells[i].set_text(nbb_formatted_code);\n                        }\n                        break;\n                    }\n                }\n            }, 500);\n            ",
      "text/plain": [
       "<IPython.core.display.Javascript object>"
      ]
     },
     "metadata": {},
     "output_type": "display_data"
    }
   ],
   "source": [
    "input_path = os.path.join(\"..\", \"ecobidas\", \"inputs\", \"csv\")\n",
    "input_file = os.path.join(input_path, \"artemis\", \"hardware.tsv\")"
   ]
  },
  {
   "cell_type": "code",
   "execution_count": 18,
   "metadata": {},
   "outputs": [
    {
     "data": {
      "application/javascript": "\n            setTimeout(function() {\n                var nbb_cell_id = 18;\n                var nbb_unformatted_code = \"df = pd.read_csv(input_file, sep=\\\"\\\\t\\\")\";\n                var nbb_formatted_code = \"df = pd.read_csv(input_file, sep=\\\"\\\\t\\\")\";\n                var nbb_cells = Jupyter.notebook.get_cells();\n                for (var i = 0; i < nbb_cells.length; ++i) {\n                    if (nbb_cells[i].input_prompt_number == nbb_cell_id) {\n                        if (nbb_cells[i].get_text() == nbb_unformatted_code) {\n                             nbb_cells[i].set_text(nbb_formatted_code);\n                        }\n                        break;\n                    }\n                }\n            }, 500);\n            ",
      "text/plain": [
       "<IPython.core.display.Javascript object>"
      ]
     },
     "metadata": {},
     "output_type": "display_data"
    }
   ],
   "source": [
    "df = pd.read_csv(input_file, sep=\"\\t\")"
   ]
  },
  {
   "cell_type": "code",
   "execution_count": 19,
   "metadata": {},
   "outputs": [
    {
     "data": {
      "text/plain": [
       "question                object\n",
       "details                 object\n",
       "field_type              object\n",
       "choices                 object\n",
       "item_pref_label         object\n",
       "BIDS_key                object\n",
       "BIDS_file               object\n",
       "visibility              object\n",
       "item_order               int64\n",
       "include                  int64\n",
       "mandatory                int64\n",
       "activity                object\n",
       "sub-section             object\n",
       "sub-sub-section        float64\n",
       "activity_pref_label     object\n",
       "activity_order           int64\n",
       "unit                   float64\n",
       "BIDS_status            float64\n",
       "BIDS_key_for_unit      float64\n",
       "dtype: object"
      ]
     },
     "execution_count": 19,
     "metadata": {},
     "output_type": "execute_result"
    },
    {
     "data": {
      "application/javascript": "\n            setTimeout(function() {\n                var nbb_cell_id = 19;\n                var nbb_unformatted_code = \"list(df.columns)\\ndf.dtypes\";\n                var nbb_formatted_code = \"list(df.columns)\\ndf.dtypes\";\n                var nbb_cells = Jupyter.notebook.get_cells();\n                for (var i = 0; i < nbb_cells.length; ++i) {\n                    if (nbb_cells[i].input_prompt_number == nbb_cell_id) {\n                        if (nbb_cells[i].get_text() == nbb_unformatted_code) {\n                             nbb_cells[i].set_text(nbb_formatted_code);\n                        }\n                        break;\n                    }\n                }\n            }, 500);\n            ",
      "text/plain": [
       "<IPython.core.display.Javascript object>"
      ]
     },
     "metadata": {},
     "output_type": "display_data"
    }
   ],
   "source": [
    "list(df.columns)\n",
    "df.dtypes"
   ]
  },
  {
   "cell_type": "code",
   "execution_count": 20,
   "metadata": {},
   "outputs": [
    {
     "data": {
      "text/html": [
       "<div>\n",
       "<style scoped>\n",
       "    .dataframe tbody tr th:only-of-type {\n",
       "        vertical-align: middle;\n",
       "    }\n",
       "\n",
       "    .dataframe tbody tr th {\n",
       "        vertical-align: top;\n",
       "    }\n",
       "\n",
       "    .dataframe thead th {\n",
       "        text-align: right;\n",
       "    }\n",
       "</style>\n",
       "<table border=\"1\" class=\"dataframe\">\n",
       "  <thead>\n",
       "    <tr style=\"text-align: right;\">\n",
       "      <th></th>\n",
       "      <th>question</th>\n",
       "      <th>details</th>\n",
       "      <th>field_type</th>\n",
       "      <th>choices</th>\n",
       "      <th>item_pref_label</th>\n",
       "      <th>BIDS_key</th>\n",
       "      <th>BIDS_file</th>\n",
       "      <th>visibility</th>\n",
       "      <th>item_order</th>\n",
       "      <th>include</th>\n",
       "      <th>mandatory</th>\n",
       "      <th>activity</th>\n",
       "      <th>sub-section</th>\n",
       "      <th>sub-sub-section</th>\n",
       "      <th>activity_pref_label</th>\n",
       "      <th>activity_order</th>\n",
       "      <th>unit</th>\n",
       "      <th>BIDS_status</th>\n",
       "      <th>BIDS_key_for_unit</th>\n",
       "    </tr>\n",
       "  </thead>\n",
       "  <tbody>\n",
       "    <tr>\n",
       "      <th>0</th>\n",
       "      <td>How were your electrodes placed?</td>\n",
       "      <td>NaN</td>\n",
       "      <td>radio</td>\n",
       "      <td>cap or net | single electrodes</td>\n",
       "      <td>Electrode Placement Type</td>\n",
       "      <td>NaN</td>\n",
       "      <td>NaN</td>\n",
       "      <td>1</td>\n",
       "      <td>1</td>\n",
       "      <td>1</td>\n",
       "      <td>1</td>\n",
       "      <td>Hardware</td>\n",
       "      <td>Preamp peripherals</td>\n",
       "      <td>NaN</td>\n",
       "      <td>Hardware</td>\n",
       "      <td>1</td>\n",
       "      <td>NaN</td>\n",
       "      <td>NaN</td>\n",
       "      <td>NaN</td>\n",
       "    </tr>\n",
       "    <tr>\n",
       "      <th>1</th>\n",
       "      <td>What kind of cap or net did you use?</td>\n",
       "      <td>NaN</td>\n",
       "      <td>radio</td>\n",
       "      <td>preset:eeg_cap_types</td>\n",
       "      <td>Electrode Placement Type Cap</td>\n",
       "      <td>CapManufacturer</td>\n",
       "      <td>*_eeg.json</td>\n",
       "      <td>electrode_placement_type == 0</td>\n",
       "      <td>2</td>\n",
       "      <td>1</td>\n",
       "      <td>1</td>\n",
       "      <td>Hardware</td>\n",
       "      <td>Preamp peripherals</td>\n",
       "      <td>NaN</td>\n",
       "      <td>Hardware</td>\n",
       "      <td>1</td>\n",
       "      <td>NaN</td>\n",
       "      <td>NaN</td>\n",
       "      <td>NaN</td>\n",
       "    </tr>\n",
       "    <tr>\n",
       "      <th>2</th>\n",
       "      <td>Please specify your cap manufacturer</td>\n",
       "      <td>NaN</td>\n",
       "      <td>text</td>\n",
       "      <td>NaN</td>\n",
       "      <td>Cap other</td>\n",
       "      <td>NaN</td>\n",
       "      <td>NaN</td>\n",
       "      <td>electrode_placement_type_cap == 1</td>\n",
       "      <td>3</td>\n",
       "      <td>1</td>\n",
       "      <td>1</td>\n",
       "      <td>Hardware</td>\n",
       "      <td>Preamp peripherals</td>\n",
       "      <td>NaN</td>\n",
       "      <td>Hardware</td>\n",
       "      <td>1</td>\n",
       "      <td>NaN</td>\n",
       "      <td>NaN</td>\n",
       "      <td>NaN</td>\n",
       "    </tr>\n",
       "    <tr>\n",
       "      <th>3</th>\n",
       "      <td>Please indicate the cap or net model.</td>\n",
       "      <td>NaN</td>\n",
       "      <td>text</td>\n",
       "      <td>NaN</td>\n",
       "      <td>Cap model</td>\n",
       "      <td>CapManufacturersModelName</td>\n",
       "      <td>*_eeg.json</td>\n",
       "      <td>electrode_placement_type == 0</td>\n",
       "      <td>4</td>\n",
       "      <td>1</td>\n",
       "      <td>1</td>\n",
       "      <td>Hardware</td>\n",
       "      <td>Preamp peripherals</td>\n",
       "      <td>NaN</td>\n",
       "      <td>Hardware</td>\n",
       "      <td>1</td>\n",
       "      <td>NaN</td>\n",
       "      <td>NaN</td>\n",
       "      <td>NaN</td>\n",
       "    </tr>\n",
       "    <tr>\n",
       "      <th>4</th>\n",
       "      <td>Manufacturer of the electrodes</td>\n",
       "      <td>NaN</td>\n",
       "      <td>text</td>\n",
       "      <td>NaN</td>\n",
       "      <td>Electrode manufacturer</td>\n",
       "      <td>NaN</td>\n",
       "      <td>NaN</td>\n",
       "      <td>electrode_placement_type == 1</td>\n",
       "      <td>5</td>\n",
       "      <td>1</td>\n",
       "      <td>1</td>\n",
       "      <td>Hardware</td>\n",
       "      <td>Preamp peripherals</td>\n",
       "      <td>NaN</td>\n",
       "      <td>Hardware</td>\n",
       "      <td>1</td>\n",
       "      <td>NaN</td>\n",
       "      <td>NaN</td>\n",
       "      <td>NaN</td>\n",
       "    </tr>\n",
       "  </tbody>\n",
       "</table>\n",
       "</div>"
      ],
      "text/plain": [
       "                                question details field_type  \\\n",
       "0       How were your electrodes placed?     NaN      radio   \n",
       "1   What kind of cap or net did you use?     NaN      radio   \n",
       "2   Please specify your cap manufacturer     NaN       text   \n",
       "3  Please indicate the cap or net model.     NaN       text   \n",
       "4         Manufacturer of the electrodes     NaN       text   \n",
       "\n",
       "                          choices               item_pref_label  \\\n",
       "0  cap or net | single electrodes      Electrode Placement Type   \n",
       "1            preset:eeg_cap_types  Electrode Placement Type Cap   \n",
       "2                             NaN                     Cap other   \n",
       "3                             NaN                     Cap model   \n",
       "4                             NaN        Electrode manufacturer   \n",
       "\n",
       "                    BIDS_key   BIDS_file                         visibility  \\\n",
       "0                        NaN         NaN                                  1   \n",
       "1            CapManufacturer  *_eeg.json      electrode_placement_type == 0   \n",
       "2                        NaN         NaN  electrode_placement_type_cap == 1   \n",
       "3  CapManufacturersModelName  *_eeg.json      electrode_placement_type == 0   \n",
       "4                        NaN         NaN      electrode_placement_type == 1   \n",
       "\n",
       "   item_order  include  mandatory  activity         sub-section  \\\n",
       "0           1        1          1  Hardware  Preamp peripherals   \n",
       "1           2        1          1  Hardware  Preamp peripherals   \n",
       "2           3        1          1  Hardware  Preamp peripherals   \n",
       "3           4        1          1  Hardware  Preamp peripherals   \n",
       "4           5        1          1  Hardware  Preamp peripherals   \n",
       "\n",
       "   sub-sub-section activity_pref_label  activity_order  unit  BIDS_status  \\\n",
       "0              NaN            Hardware               1   NaN          NaN   \n",
       "1              NaN            Hardware               1   NaN          NaN   \n",
       "2              NaN            Hardware               1   NaN          NaN   \n",
       "3              NaN            Hardware               1   NaN          NaN   \n",
       "4              NaN            Hardware               1   NaN          NaN   \n",
       "\n",
       "   BIDS_key_for_unit  \n",
       "0                NaN  \n",
       "1                NaN  \n",
       "2                NaN  \n",
       "3                NaN  \n",
       "4                NaN  "
      ]
     },
     "execution_count": 20,
     "metadata": {},
     "output_type": "execute_result"
    },
    {
     "data": {
      "application/javascript": "\n            setTimeout(function() {\n                var nbb_cell_id = 20;\n                var nbb_unformatted_code = \"df.head()\";\n                var nbb_formatted_code = \"df.head()\";\n                var nbb_cells = Jupyter.notebook.get_cells();\n                for (var i = 0; i < nbb_cells.length; ++i) {\n                    if (nbb_cells[i].input_prompt_number == nbb_cell_id) {\n                        if (nbb_cells[i].get_text() == nbb_unformatted_code) {\n                             nbb_cells[i].set_text(nbb_formatted_code);\n                        }\n                        break;\n                    }\n                }\n            }, 500);\n            ",
      "text/plain": [
       "<IPython.core.display.Javascript object>"
      ]
     },
     "metadata": {},
     "output_type": "display_data"
    }
   ],
   "source": [
    "df.head()"
   ]
  },
  {
   "cell_type": "markdown",
   "metadata": {},
   "source": [
    "Unique activities that we get from the `activity_order` column"
   ]
  },
  {
   "cell_type": "code",
   "execution_count": 21,
   "metadata": {},
   "outputs": [
    {
     "name": "stdout",
     "output_type": "stream",
     "text": [
      "[1]\n"
     ]
    },
    {
     "data": {
      "application/javascript": "\n            setTimeout(function() {\n                var nbb_cell_id = 21;\n                var nbb_unformatted_code = \"activities = df.activity_order.unique()\\nprint(activities)\\nactivity_idx = 0\";\n                var nbb_formatted_code = \"activities = df.activity_order.unique()\\nprint(activities)\\nactivity_idx = 0\";\n                var nbb_cells = Jupyter.notebook.get_cells();\n                for (var i = 0; i < nbb_cells.length; ++i) {\n                    if (nbb_cells[i].input_prompt_number == nbb_cell_id) {\n                        if (nbb_cells[i].get_text() == nbb_unformatted_code) {\n                             nbb_cells[i].set_text(nbb_formatted_code);\n                        }\n                        break;\n                    }\n                }\n            }, 500);\n            ",
      "text/plain": [
       "<IPython.core.display.Javascript object>"
      ]
     },
     "metadata": {},
     "output_type": "display_data"
    }
   ],
   "source": [
    "activities = df.activity_order.unique()\n",
    "print(activities)\n",
    "activity_idx = 0"
   ]
  },
  {
   "cell_type": "markdown",
   "metadata": {},
   "source": [
    "Only show the items of a given activity"
   ]
  },
  {
   "cell_type": "code",
   "execution_count": 22,
   "metadata": {},
   "outputs": [
    {
     "data": {
      "application/javascript": "\n            setTimeout(function() {\n                var nbb_cell_id = 22;\n                var nbb_unformatted_code = \"this_activity =  df['activity_order']==activities[activity_idx]\\nitems = df[this_activity]\";\n                var nbb_formatted_code = \"this_activity = df[\\\"activity_order\\\"] == activities[activity_idx]\\nitems = df[this_activity]\";\n                var nbb_cells = Jupyter.notebook.get_cells();\n                for (var i = 0; i < nbb_cells.length; ++i) {\n                    if (nbb_cells[i].input_prompt_number == nbb_cell_id) {\n                        if (nbb_cells[i].get_text() == nbb_unformatted_code) {\n                             nbb_cells[i].set_text(nbb_formatted_code);\n                        }\n                        break;\n                    }\n                }\n            }, 500);\n            ",
      "text/plain": [
       "<IPython.core.display.Javascript object>"
      ]
     },
     "metadata": {},
     "output_type": "display_data"
    }
   ],
   "source": [
    "this_activity = df[\"activity_order\"] == activities[activity_idx]\n",
    "items = df[this_activity]"
   ]
  },
  {
   "cell_type": "code",
   "execution_count": 23,
   "metadata": {},
   "outputs": [
    {
     "data": {
      "text/plain": [
       "'hardware'"
      ]
     },
     "execution_count": 23,
     "metadata": {},
     "output_type": "execute_result"
    },
    {
     "data": {
      "application/javascript": "\n            setTimeout(function() {\n                var nbb_cell_id = 23;\n                var nbb_unformatted_code = \"activity_name = items.activity_pref_label.unique()\\nactivity_name[0].lower().replace(\\\" \\\", \\\"_\\\")\";\n                var nbb_formatted_code = \"activity_name = items.activity_pref_label.unique()\\nactivity_name[0].lower().replace(\\\" \\\", \\\"_\\\")\";\n                var nbb_cells = Jupyter.notebook.get_cells();\n                for (var i = 0; i < nbb_cells.length; ++i) {\n                    if (nbb_cells[i].input_prompt_number == nbb_cell_id) {\n                        if (nbb_cells[i].get_text() == nbb_unformatted_code) {\n                             nbb_cells[i].set_text(nbb_formatted_code);\n                        }\n                        break;\n                    }\n                }\n            }, 500);\n            ",
      "text/plain": [
       "<IPython.core.display.Javascript object>"
      ]
     },
     "metadata": {},
     "output_type": "display_data"
    }
   ],
   "source": [
    "activity_name = items.activity_pref_label.unique()\n",
    "activity_name[0].lower().replace(\" \", \"_\")"
   ]
  },
  {
   "cell_type": "markdown",
   "metadata": {},
   "source": [
    "Only keep items to include"
   ]
  },
  {
   "cell_type": "code",
   "execution_count": 24,
   "metadata": {},
   "outputs": [
    {
     "data": {
      "application/javascript": "\n            setTimeout(function() {\n                var nbb_cell_id = 24;\n                var nbb_unformatted_code = \"included_items =  items['include']==1\\nitems = items[included_items]\";\n                var nbb_formatted_code = \"included_items = items[\\\"include\\\"] == 1\\nitems = items[included_items]\";\n                var nbb_cells = Jupyter.notebook.get_cells();\n                for (var i = 0; i < nbb_cells.length; ++i) {\n                    if (nbb_cells[i].input_prompt_number == nbb_cell_id) {\n                        if (nbb_cells[i].get_text() == nbb_unformatted_code) {\n                             nbb_cells[i].set_text(nbb_formatted_code);\n                        }\n                        break;\n                    }\n                }\n            }, 500);\n            ",
      "text/plain": [
       "<IPython.core.display.Javascript object>"
      ]
     },
     "metadata": {},
     "output_type": "display_data"
    }
   ],
   "source": [
    "included_items = items[\"include\"] == 1\n",
    "items = items[included_items]"
   ]
  },
  {
   "cell_type": "code",
   "execution_count": 25,
   "metadata": {},
   "outputs": [
    {
     "data": {
      "text/html": [
       "<div>\n",
       "<style scoped>\n",
       "    .dataframe tbody tr th:only-of-type {\n",
       "        vertical-align: middle;\n",
       "    }\n",
       "\n",
       "    .dataframe tbody tr th {\n",
       "        vertical-align: top;\n",
       "    }\n",
       "\n",
       "    .dataframe thead th {\n",
       "        text-align: right;\n",
       "    }\n",
       "</style>\n",
       "<table border=\"1\" class=\"dataframe\">\n",
       "  <thead>\n",
       "    <tr style=\"text-align: right;\">\n",
       "      <th></th>\n",
       "      <th>question</th>\n",
       "      <th>details</th>\n",
       "      <th>field_type</th>\n",
       "      <th>choices</th>\n",
       "      <th>item_pref_label</th>\n",
       "      <th>BIDS_key</th>\n",
       "      <th>BIDS_file</th>\n",
       "      <th>visibility</th>\n",
       "      <th>item_order</th>\n",
       "      <th>include</th>\n",
       "      <th>mandatory</th>\n",
       "      <th>activity</th>\n",
       "      <th>sub-section</th>\n",
       "      <th>sub-sub-section</th>\n",
       "      <th>activity_pref_label</th>\n",
       "      <th>activity_order</th>\n",
       "      <th>unit</th>\n",
       "      <th>BIDS_status</th>\n",
       "      <th>BIDS_key_for_unit</th>\n",
       "    </tr>\n",
       "  </thead>\n",
       "  <tbody>\n",
       "    <tr>\n",
       "      <th>0</th>\n",
       "      <td>How were your electrodes placed?</td>\n",
       "      <td>NaN</td>\n",
       "      <td>radio</td>\n",
       "      <td>cap or net | single electrodes</td>\n",
       "      <td>Electrode Placement Type</td>\n",
       "      <td>NaN</td>\n",
       "      <td>NaN</td>\n",
       "      <td>1</td>\n",
       "      <td>1</td>\n",
       "      <td>1</td>\n",
       "      <td>1</td>\n",
       "      <td>Hardware</td>\n",
       "      <td>Preamp peripherals</td>\n",
       "      <td>NaN</td>\n",
       "      <td>Hardware</td>\n",
       "      <td>1</td>\n",
       "      <td>NaN</td>\n",
       "      <td>NaN</td>\n",
       "      <td>NaN</td>\n",
       "    </tr>\n",
       "    <tr>\n",
       "      <th>1</th>\n",
       "      <td>What kind of cap or net did you use?</td>\n",
       "      <td>NaN</td>\n",
       "      <td>radio</td>\n",
       "      <td>preset:eeg_cap_types</td>\n",
       "      <td>Electrode Placement Type Cap</td>\n",
       "      <td>CapManufacturer</td>\n",
       "      <td>*_eeg.json</td>\n",
       "      <td>electrode_placement_type == 0</td>\n",
       "      <td>2</td>\n",
       "      <td>1</td>\n",
       "      <td>1</td>\n",
       "      <td>Hardware</td>\n",
       "      <td>Preamp peripherals</td>\n",
       "      <td>NaN</td>\n",
       "      <td>Hardware</td>\n",
       "      <td>1</td>\n",
       "      <td>NaN</td>\n",
       "      <td>NaN</td>\n",
       "      <td>NaN</td>\n",
       "    </tr>\n",
       "    <tr>\n",
       "      <th>2</th>\n",
       "      <td>Please specify your cap manufacturer</td>\n",
       "      <td>NaN</td>\n",
       "      <td>text</td>\n",
       "      <td>NaN</td>\n",
       "      <td>Cap other</td>\n",
       "      <td>NaN</td>\n",
       "      <td>NaN</td>\n",
       "      <td>electrode_placement_type_cap == 1</td>\n",
       "      <td>3</td>\n",
       "      <td>1</td>\n",
       "      <td>1</td>\n",
       "      <td>Hardware</td>\n",
       "      <td>Preamp peripherals</td>\n",
       "      <td>NaN</td>\n",
       "      <td>Hardware</td>\n",
       "      <td>1</td>\n",
       "      <td>NaN</td>\n",
       "      <td>NaN</td>\n",
       "      <td>NaN</td>\n",
       "    </tr>\n",
       "    <tr>\n",
       "      <th>3</th>\n",
       "      <td>Please indicate the cap or net model.</td>\n",
       "      <td>NaN</td>\n",
       "      <td>text</td>\n",
       "      <td>NaN</td>\n",
       "      <td>Cap model</td>\n",
       "      <td>CapManufacturersModelName</td>\n",
       "      <td>*_eeg.json</td>\n",
       "      <td>electrode_placement_type == 0</td>\n",
       "      <td>4</td>\n",
       "      <td>1</td>\n",
       "      <td>1</td>\n",
       "      <td>Hardware</td>\n",
       "      <td>Preamp peripherals</td>\n",
       "      <td>NaN</td>\n",
       "      <td>Hardware</td>\n",
       "      <td>1</td>\n",
       "      <td>NaN</td>\n",
       "      <td>NaN</td>\n",
       "      <td>NaN</td>\n",
       "    </tr>\n",
       "    <tr>\n",
       "      <th>4</th>\n",
       "      <td>Manufacturer of the electrodes</td>\n",
       "      <td>NaN</td>\n",
       "      <td>text</td>\n",
       "      <td>NaN</td>\n",
       "      <td>Electrode manufacturer</td>\n",
       "      <td>NaN</td>\n",
       "      <td>NaN</td>\n",
       "      <td>electrode_placement_type == 1</td>\n",
       "      <td>5</td>\n",
       "      <td>1</td>\n",
       "      <td>1</td>\n",
       "      <td>Hardware</td>\n",
       "      <td>Preamp peripherals</td>\n",
       "      <td>NaN</td>\n",
       "      <td>Hardware</td>\n",
       "      <td>1</td>\n",
       "      <td>NaN</td>\n",
       "      <td>NaN</td>\n",
       "      <td>NaN</td>\n",
       "    </tr>\n",
       "    <tr>\n",
       "      <th>5</th>\n",
       "      <td>Model of electrodes</td>\n",
       "      <td>NaN</td>\n",
       "      <td>text</td>\n",
       "      <td>NaN</td>\n",
       "      <td>Electrode model</td>\n",
       "      <td>NaN</td>\n",
       "      <td>NaN</td>\n",
       "      <td>electrode_placement_type == 1</td>\n",
       "      <td>6</td>\n",
       "      <td>1</td>\n",
       "      <td>1</td>\n",
       "      <td>Hardware</td>\n",
       "      <td>Preamp peripherals</td>\n",
       "      <td>NaN</td>\n",
       "      <td>Hardware</td>\n",
       "      <td>1</td>\n",
       "      <td>NaN</td>\n",
       "      <td>NaN</td>\n",
       "      <td>NaN</td>\n",
       "    </tr>\n",
       "    <tr>\n",
       "      <th>6</th>\n",
       "      <td>Type of electrodes</td>\n",
       "      <td>1 - passive/active 2 - material: Ag/Ag-Cl, gol...</td>\n",
       "      <td>select</td>\n",
       "      <td>passive Ag/Ag-Cl | passive tin | active electr...</td>\n",
       "      <td>Electrode type</td>\n",
       "      <td>material</td>\n",
       "      <td>*_electrodes.tsv</td>\n",
       "      <td>1</td>\n",
       "      <td>7</td>\n",
       "      <td>1</td>\n",
       "      <td>1</td>\n",
       "      <td>Hardware</td>\n",
       "      <td>Preamp peripherals</td>\n",
       "      <td>NaN</td>\n",
       "      <td>Hardware</td>\n",
       "      <td>1</td>\n",
       "      <td>NaN</td>\n",
       "      <td>NaN</td>\n",
       "      <td>NaN</td>\n",
       "    </tr>\n",
       "    <tr>\n",
       "      <th>7</th>\n",
       "      <td>Type of conductive medium used</td>\n",
       "      <td>NaN</td>\n",
       "      <td>radio</td>\n",
       "      <td>conductive gel | saline solution | adhesive pa...</td>\n",
       "      <td>Conductive medium</td>\n",
       "      <td>NaN</td>\n",
       "      <td>NaN</td>\n",
       "      <td>1</td>\n",
       "      <td>8</td>\n",
       "      <td>1</td>\n",
       "      <td>1</td>\n",
       "      <td>Hardware</td>\n",
       "      <td>Preamp peripherals</td>\n",
       "      <td>NaN</td>\n",
       "      <td>Hardware</td>\n",
       "      <td>1</td>\n",
       "      <td>NaN</td>\n",
       "      <td>NaN</td>\n",
       "      <td>NaN</td>\n",
       "    </tr>\n",
       "    <tr>\n",
       "      <th>8</th>\n",
       "      <td>Make or brand of the amplifier</td>\n",
       "      <td>NaN</td>\n",
       "      <td>radio</td>\n",
       "      <td>preset:meeg_amplifier_brands</td>\n",
       "      <td>Amplifier make_or_brand</td>\n",
       "      <td>NaN</td>\n",
       "      <td>NaN</td>\n",
       "      <td>1</td>\n",
       "      <td>9</td>\n",
       "      <td>1</td>\n",
       "      <td>1</td>\n",
       "      <td>Hardware</td>\n",
       "      <td>Signal amplifiers</td>\n",
       "      <td>NaN</td>\n",
       "      <td>Hardware</td>\n",
       "      <td>1</td>\n",
       "      <td>NaN</td>\n",
       "      <td>NaN</td>\n",
       "      <td>NaN</td>\n",
       "    </tr>\n",
       "    <tr>\n",
       "      <th>9</th>\n",
       "      <td>Model of amplifier</td>\n",
       "      <td>NaN</td>\n",
       "      <td>text</td>\n",
       "      <td>NaN</td>\n",
       "      <td>Amplifier model</td>\n",
       "      <td>NaN</td>\n",
       "      <td>NaN</td>\n",
       "      <td>1</td>\n",
       "      <td>10</td>\n",
       "      <td>1</td>\n",
       "      <td>1</td>\n",
       "      <td>Hardware</td>\n",
       "      <td>Signal amplifiers</td>\n",
       "      <td>NaN</td>\n",
       "      <td>Hardware</td>\n",
       "      <td>1</td>\n",
       "      <td>NaN</td>\n",
       "      <td>NaN</td>\n",
       "      <td>NaN</td>\n",
       "    </tr>\n",
       "    <tr>\n",
       "      <th>10</th>\n",
       "      <td>Source of the triggers</td>\n",
       "      <td>NaN</td>\n",
       "      <td>radio</td>\n",
       "      <td>photo diode | auditory trigger/voice key | com...</td>\n",
       "      <td>Trigger signal source</td>\n",
       "      <td>NaN</td>\n",
       "      <td>NaN</td>\n",
       "      <td>1</td>\n",
       "      <td>11</td>\n",
       "      <td>1</td>\n",
       "      <td>1</td>\n",
       "      <td>Hardware</td>\n",
       "      <td>Triggers</td>\n",
       "      <td>NaN</td>\n",
       "      <td>Hardware</td>\n",
       "      <td>1</td>\n",
       "      <td>NaN</td>\n",
       "      <td>NaN</td>\n",
       "      <td>NaN</td>\n",
       "    </tr>\n",
       "    <tr>\n",
       "      <th>11</th>\n",
       "      <td>Describe your trigger signal input.</td>\n",
       "      <td>1. If your system delivers triggers online dur...</td>\n",
       "      <td>select</td>\n",
       "      <td>analogue signal to amplifier | digital signal ...</td>\n",
       "      <td>Trigger signal input</td>\n",
       "      <td>NaN</td>\n",
       "      <td>NaN</td>\n",
       "      <td>1</td>\n",
       "      <td>12</td>\n",
       "      <td>1</td>\n",
       "      <td>1</td>\n",
       "      <td>Hardware</td>\n",
       "      <td>Triggers</td>\n",
       "      <td>NaN</td>\n",
       "      <td>Hardware</td>\n",
       "      <td>1</td>\n",
       "      <td>NaN</td>\n",
       "      <td>NaN</td>\n",
       "      <td>NaN</td>\n",
       "    </tr>\n",
       "    <tr>\n",
       "      <th>12</th>\n",
       "      <td>Do you have other devices (eg. signal boxes, c...</td>\n",
       "      <td>NaN</td>\n",
       "      <td>radio</td>\n",
       "      <td>preset:boolean</td>\n",
       "      <td>Other peripheral devices</td>\n",
       "      <td>NaN</td>\n",
       "      <td>NaN</td>\n",
       "      <td>1</td>\n",
       "      <td>13</td>\n",
       "      <td>1</td>\n",
       "      <td>1</td>\n",
       "      <td>Hardware</td>\n",
       "      <td>Other Peripheral Devices</td>\n",
       "      <td>NaN</td>\n",
       "      <td>Hardware</td>\n",
       "      <td>1</td>\n",
       "      <td>NaN</td>\n",
       "      <td>NaN</td>\n",
       "      <td>NaN</td>\n",
       "    </tr>\n",
       "    <tr>\n",
       "      <th>13</th>\n",
       "      <td>Please specify the details of the additional d...</td>\n",
       "      <td>NaN</td>\n",
       "      <td>text</td>\n",
       "      <td>NaN</td>\n",
       "      <td>Further clarification on peripheral devices</td>\n",
       "      <td>NaN</td>\n",
       "      <td>NaN</td>\n",
       "      <td>other_peripheral_devices == 1</td>\n",
       "      <td>14</td>\n",
       "      <td>1</td>\n",
       "      <td>1</td>\n",
       "      <td>Hardware</td>\n",
       "      <td>Other Peripheral Devices</td>\n",
       "      <td>NaN</td>\n",
       "      <td>Hardware</td>\n",
       "      <td>1</td>\n",
       "      <td>NaN</td>\n",
       "      <td>NaN</td>\n",
       "      <td>NaN</td>\n",
       "    </tr>\n",
       "  </tbody>\n",
       "</table>\n",
       "</div>"
      ],
      "text/plain": [
       "                                             question  \\\n",
       "0                    How were your electrodes placed?   \n",
       "1                What kind of cap or net did you use?   \n",
       "2                Please specify your cap manufacturer   \n",
       "3               Please indicate the cap or net model.   \n",
       "4                      Manufacturer of the electrodes   \n",
       "5                                 Model of electrodes   \n",
       "6                                  Type of electrodes   \n",
       "7                      Type of conductive medium used   \n",
       "8                      Make or brand of the amplifier   \n",
       "9                                  Model of amplifier   \n",
       "10                             Source of the triggers   \n",
       "11                Describe your trigger signal input.   \n",
       "12  Do you have other devices (eg. signal boxes, c...   \n",
       "13  Please specify the details of the additional d...   \n",
       "\n",
       "                                              details field_type  \\\n",
       "0                                                 NaN      radio   \n",
       "1                                                 NaN      radio   \n",
       "2                                                 NaN       text   \n",
       "3                                                 NaN       text   \n",
       "4                                                 NaN       text   \n",
       "5                                                 NaN       text   \n",
       "6   1 - passive/active 2 - material: Ag/Ag-Cl, gol...     select   \n",
       "7                                                 NaN      radio   \n",
       "8                                                 NaN      radio   \n",
       "9                                                 NaN       text   \n",
       "10                                                NaN      radio   \n",
       "11  1. If your system delivers triggers online dur...     select   \n",
       "12                                                NaN      radio   \n",
       "13                                                NaN       text   \n",
       "\n",
       "                                              choices  \\\n",
       "0                      cap or net | single electrodes   \n",
       "1                                preset:eeg_cap_types   \n",
       "2                                                 NaN   \n",
       "3                                                 NaN   \n",
       "4                                                 NaN   \n",
       "5                                                 NaN   \n",
       "6   passive Ag/Ag-Cl | passive tin | active electr...   \n",
       "7   conductive gel | saline solution | adhesive pa...   \n",
       "8                        preset:meeg_amplifier_brands   \n",
       "9                                                 NaN   \n",
       "10  photo diode | auditory trigger/voice key | com...   \n",
       "11  analogue signal to amplifier | digital signal ...   \n",
       "12                                     preset:boolean   \n",
       "13                                                NaN   \n",
       "\n",
       "                                item_pref_label                   BIDS_key  \\\n",
       "0                      Electrode Placement Type                        NaN   \n",
       "1                  Electrode Placement Type Cap            CapManufacturer   \n",
       "2                                     Cap other                        NaN   \n",
       "3                                     Cap model  CapManufacturersModelName   \n",
       "4                        Electrode manufacturer                        NaN   \n",
       "5                               Electrode model                        NaN   \n",
       "6                                Electrode type                   material   \n",
       "7                             Conductive medium                        NaN   \n",
       "8                       Amplifier make_or_brand                        NaN   \n",
       "9                               Amplifier model                        NaN   \n",
       "10                        Trigger signal source                        NaN   \n",
       "11                         Trigger signal input                        NaN   \n",
       "12                     Other peripheral devices                        NaN   \n",
       "13  Further clarification on peripheral devices                        NaN   \n",
       "\n",
       "           BIDS_file                         visibility  item_order  include  \\\n",
       "0                NaN                                  1           1        1   \n",
       "1         *_eeg.json      electrode_placement_type == 0           2        1   \n",
       "2                NaN  electrode_placement_type_cap == 1           3        1   \n",
       "3         *_eeg.json      electrode_placement_type == 0           4        1   \n",
       "4                NaN      electrode_placement_type == 1           5        1   \n",
       "5                NaN      electrode_placement_type == 1           6        1   \n",
       "6   *_electrodes.tsv                                  1           7        1   \n",
       "7                NaN                                  1           8        1   \n",
       "8                NaN                                  1           9        1   \n",
       "9                NaN                                  1          10        1   \n",
       "10               NaN                                  1          11        1   \n",
       "11               NaN                                  1          12        1   \n",
       "12               NaN                                  1          13        1   \n",
       "13               NaN      other_peripheral_devices == 1          14        1   \n",
       "\n",
       "    mandatory  activity               sub-section  sub-sub-section  \\\n",
       "0           1  Hardware        Preamp peripherals              NaN   \n",
       "1           1  Hardware        Preamp peripherals              NaN   \n",
       "2           1  Hardware        Preamp peripherals              NaN   \n",
       "3           1  Hardware        Preamp peripherals              NaN   \n",
       "4           1  Hardware        Preamp peripherals              NaN   \n",
       "5           1  Hardware        Preamp peripherals              NaN   \n",
       "6           1  Hardware        Preamp peripherals              NaN   \n",
       "7           1  Hardware        Preamp peripherals              NaN   \n",
       "8           1  Hardware         Signal amplifiers              NaN   \n",
       "9           1  Hardware         Signal amplifiers              NaN   \n",
       "10          1  Hardware                  Triggers              NaN   \n",
       "11          1  Hardware                  Triggers              NaN   \n",
       "12          1  Hardware  Other Peripheral Devices              NaN   \n",
       "13          1  Hardware  Other Peripheral Devices              NaN   \n",
       "\n",
       "   activity_pref_label  activity_order  unit  BIDS_status  BIDS_key_for_unit  \n",
       "0             Hardware               1   NaN          NaN                NaN  \n",
       "1             Hardware               1   NaN          NaN                NaN  \n",
       "2             Hardware               1   NaN          NaN                NaN  \n",
       "3             Hardware               1   NaN          NaN                NaN  \n",
       "4             Hardware               1   NaN          NaN                NaN  \n",
       "5             Hardware               1   NaN          NaN                NaN  \n",
       "6             Hardware               1   NaN          NaN                NaN  \n",
       "7             Hardware               1   NaN          NaN                NaN  \n",
       "8             Hardware               1   NaN          NaN                NaN  \n",
       "9             Hardware               1   NaN          NaN                NaN  \n",
       "10            Hardware               1   NaN          NaN                NaN  \n",
       "11            Hardware               1   NaN          NaN                NaN  \n",
       "12            Hardware               1   NaN          NaN                NaN  \n",
       "13            Hardware               1   NaN          NaN                NaN  "
      ]
     },
     "execution_count": 25,
     "metadata": {},
     "output_type": "execute_result"
    },
    {
     "data": {
      "application/javascript": "\n            setTimeout(function() {\n                var nbb_cell_id = 25;\n                var nbb_unformatted_code = \"items\";\n                var nbb_formatted_code = \"items\";\n                var nbb_cells = Jupyter.notebook.get_cells();\n                for (var i = 0; i < nbb_cells.length; ++i) {\n                    if (nbb_cells[i].input_prompt_number == nbb_cell_id) {\n                        if (nbb_cells[i].get_text() == nbb_unformatted_code) {\n                             nbb_cells[i].set_text(nbb_formatted_code);\n                        }\n                        break;\n                    }\n                }\n            }, 500);\n            ",
      "text/plain": [
       "<IPython.core.display.Javascript object>"
      ]
     },
     "metadata": {},
     "output_type": "display_data"
    }
   ],
   "source": [
    "items"
   ]
  },
  {
   "cell_type": "code",
   "execution_count": 26,
   "metadata": {},
   "outputs": [
    {
     "data": {
      "text/plain": [
       "array([ 1,  2,  3,  4,  5,  6,  7,  8,  9, 10, 11, 12, 13, 14])"
      ]
     },
     "execution_count": 26,
     "metadata": {},
     "output_type": "execute_result"
    },
    {
     "data": {
      "application/javascript": "\n            setTimeout(function() {\n                var nbb_cell_id = 26;\n                var nbb_unformatted_code = \"items_order = items.item_order.unique()\\nitems_order\";\n                var nbb_formatted_code = \"items_order = items.item_order.unique()\\nitems_order\";\n                var nbb_cells = Jupyter.notebook.get_cells();\n                for (var i = 0; i < nbb_cells.length; ++i) {\n                    if (nbb_cells[i].input_prompt_number == nbb_cell_id) {\n                        if (nbb_cells[i].get_text() == nbb_unformatted_code) {\n                             nbb_cells[i].set_text(nbb_formatted_code);\n                        }\n                        break;\n                    }\n                }\n            }, 500);\n            ",
      "text/plain": [
       "<IPython.core.display.Javascript object>"
      ]
     },
     "metadata": {},
     "output_type": "display_data"
    }
   ],
   "source": [
    "items_order = items.item_order.unique()\n",
    "items_order"
   ]
  },
  {
   "cell_type": "code",
   "execution_count": 27,
   "metadata": {},
   "outputs": [
    {
     "name": "stdout",
     "output_type": "stream",
     "text": [
      "1 Hardware\n",
      "2 Hardware\n",
      "3 Hardware\n",
      "4 Hardware\n",
      "5 Hardware\n",
      "6 Hardware\n",
      "7 Hardware\n",
      "8 Hardware\n",
      "9 Hardware\n",
      "10 Hardware\n",
      "11 Hardware\n",
      "12 Hardware\n",
      "13 Hardware\n",
      "14 Hardware\n"
     ]
    },
    {
     "data": {
      "application/javascript": "\n            setTimeout(function() {\n                var nbb_cell_id = 27;\n                var nbb_unformatted_code = \"for index in items_order:\\n    this_item = items[items[\\\"item_order\\\"]==index]\\n    pref_label = this_item[\\\"activity_pref_label\\\"].tolist()[0]\\n    content = this_item[\\\"visibility\\\"].tolist()[0]\\n    \\n    print(str(index) + ' ' + pref_label)\\n    if isinstance(content, float):\\n            print(str(content))\";\n                var nbb_formatted_code = \"for index in items_order:\\n    this_item = items[items[\\\"item_order\\\"] == index]\\n    pref_label = this_item[\\\"activity_pref_label\\\"].tolist()[0]\\n    content = this_item[\\\"visibility\\\"].tolist()[0]\\n\\n    print(str(index) + \\\" \\\" + pref_label)\\n    if isinstance(content, float):\\n        print(str(content))\";\n                var nbb_cells = Jupyter.notebook.get_cells();\n                for (var i = 0; i < nbb_cells.length; ++i) {\n                    if (nbb_cells[i].input_prompt_number == nbb_cell_id) {\n                        if (nbb_cells[i].get_text() == nbb_unformatted_code) {\n                             nbb_cells[i].set_text(nbb_formatted_code);\n                        }\n                        break;\n                    }\n                }\n            }, 500);\n            ",
      "text/plain": [
       "<IPython.core.display.Javascript object>"
      ]
     },
     "metadata": {},
     "output_type": "display_data"
    }
   ],
   "source": [
    "for index in items_order:\n",
    "    this_item = items[items[\"item_order\"]==index]\n",
    "    pref_label = this_item[\"activity_pref_label\"].tolist()[0]\n",
    "    content = this_item[\"visibility\"].tolist()[0]\n",
    "    \n",
    "    print(str(index) + ' ' + pref_label)\n",
    "    if isinstance(content, float):\n",
    "            print(str(content))\n"
   ]
  },
  {
   "cell_type": "code",
   "execution_count": 28,
   "metadata": {},
   "outputs": [
    {
     "data": {
      "application/javascript": "\n            setTimeout(function() {\n                var nbb_cell_id = 28;\n                var nbb_unformatted_code = \"this_item = pd.DataFrame({\\\"visibility\\\": [float(\\\"nan\\\")]})\";\n                var nbb_formatted_code = \"this_item = pd.DataFrame({\\\"visibility\\\": [float(\\\"nan\\\")]})\";\n                var nbb_cells = Jupyter.notebook.get_cells();\n                for (var i = 0; i < nbb_cells.length; ++i) {\n                    if (nbb_cells[i].input_prompt_number == nbb_cell_id) {\n                        if (nbb_cells[i].get_text() == nbb_unformatted_code) {\n                             nbb_cells[i].set_text(nbb_formatted_code);\n                        }\n                        break;\n                    }\n                }\n            }, 500);\n            ",
      "text/plain": [
       "<IPython.core.display.Javascript object>"
      ]
     },
     "metadata": {},
     "output_type": "display_data"
    }
   ],
   "source": [
    "this_item = pd.DataFrame({\"visibility\": [float(\"nan\")]})"
   ]
  }
 ],
 "metadata": {
  "kernelspec": {
   "display_name": "Python 3",
   "language": "python",
   "name": "python3"
  },
  "language_info": {
   "codemirror_mode": {
    "name": "ipython",
    "version": 3
   },
   "file_extension": ".py",
   "mimetype": "text/x-python",
   "name": "python",
   "nbconvert_exporter": "python",
   "pygments_lexer": "ipython3",
   "version": "3.6.9"
  }
 },
 "nbformat": 4,
 "nbformat_minor": 4
}
