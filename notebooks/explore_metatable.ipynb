{
 "cells": [
  {
   "cell_type": "code",
   "execution_count": 1,
   "metadata": {},
   "outputs": [],
   "source": [
    "import os\n",
    "import pandas as pd"
   ]
  },
  {
   "cell_type": "code",
   "execution_count": 2,
   "metadata": {},
   "outputs": [
    {
     "data": {
      "text/html": [
       "<div>\n",
       "<style scoped>\n",
       "    .dataframe tbody tr th:only-of-type {\n",
       "        vertical-align: middle;\n",
       "    }\n",
       "\n",
       "    .dataframe tbody tr th {\n",
       "        vertical-align: top;\n",
       "    }\n",
       "\n",
       "    .dataframe thead th {\n",
       "        text-align: right;\n",
       "    }\n",
       "</style>\n",
       "<table border=\"1\" class=\"dataframe\">\n",
       "  <thead>\n",
       "    <tr style=\"text-align: right;\">\n",
       "      <th></th>\n",
       "      <th>schema</th>\n",
       "      <th>dir</th>\n",
       "      <th>basename</th>\n",
       "      <th>google_id</th>\n",
       "      <th>sheet_id</th>\n",
       "      <th>link</th>\n",
       "      <th>citation</th>\n",
       "      <th>app link</th>\n",
       "      <th>landing page</th>\n",
       "      <th>repo</th>\n",
       "    </tr>\n",
       "  </thead>\n",
       "  <tbody>\n",
       "    <tr>\n",
       "      <th>0</th>\n",
       "      <td>core-participants</td>\n",
       "      <td>core</td>\n",
       "      <td>participants</td>\n",
       "      <td>1pshzE4tXvj294-S-rRVlf9XpczFq2bkj2P3C7xGgzjs</td>\n",
       "      <td>NaN</td>\n",
       "      <td>https://docs.google.com/spreadsheets/d/1pshzE4...</td>\n",
       "      <td>http://www.humanbrainmapping.org/files/2016/CO...</td>\n",
       "      <td>https://www.repronim.org/reproschema-ui/#/?url...</td>\n",
       "      <td>NaN</td>\n",
       "      <td>NaN</td>\n",
       "    </tr>\n",
       "    <tr>\n",
       "      <th>1</th>\n",
       "      <td>core-beh</td>\n",
       "      <td>core</td>\n",
       "      <td>behavior</td>\n",
       "      <td>1P0BQcM0889YTBFSoY8-E0vfdp0psrl7vyHBAW0fSmqs</td>\n",
       "      <td>NaN</td>\n",
       "      <td>https://docs.google.com/spreadsheets/d/1P0BQcM...</td>\n",
       "      <td>http://www.humanbrainmapping.org/files/2016/CO...</td>\n",
       "      <td>https://www.repronim.org/reproschema-ui/#/?url...</td>\n",
       "      <td>NaN</td>\n",
       "      <td>NaN</td>\n",
       "    </tr>\n",
       "    <tr>\n",
       "      <th>2</th>\n",
       "      <td>core-rep</td>\n",
       "      <td>core</td>\n",
       "      <td>reproducibility</td>\n",
       "      <td>1aucpZDoav8lb2QI4YlIppNBN0FwSikV-2diQmrJCI-4</td>\n",
       "      <td>NaN</td>\n",
       "      <td>https://docs.google.com/spreadsheets/d/1aucpZD...</td>\n",
       "      <td>http://www.humanbrainmapping.org/files/2016/CO...</td>\n",
       "      <td>NaN</td>\n",
       "      <td>NaN</td>\n",
       "      <td>NaN</td>\n",
       "    </tr>\n",
       "    <tr>\n",
       "      <th>3</th>\n",
       "      <td>core-data</td>\n",
       "      <td>core</td>\n",
       "      <td>data_sharing</td>\n",
       "      <td>1yoI37se8nfWKNdKBCd-VgK1zDTdf4JR--m8apZ9iPR8</td>\n",
       "      <td>NaN</td>\n",
       "      <td>https://docs.google.com/spreadsheets/d/1yoI37s...</td>\n",
       "      <td>http://www.humanbrainmapping.org/files/2016/CO...</td>\n",
       "      <td>NaN</td>\n",
       "      <td>NaN</td>\n",
       "      <td>NaN</td>\n",
       "    </tr>\n",
       "    <tr>\n",
       "      <th>4</th>\n",
       "      <td>mri-allseq</td>\n",
       "      <td>mri</td>\n",
       "      <td>all_sequences</td>\n",
       "      <td>16LhsvrEKOzkNsXGLGlYZsH9h4aZ1hyt_BORmxkndaiI</td>\n",
       "      <td>NaN</td>\n",
       "      <td>https://docs.google.com/spreadsheets/d/16Lhsvr...</td>\n",
       "      <td>http://www.humanbrainmapping.org/files/2016/CO...</td>\n",
       "      <td>https://www.repronim.org/reproschema-ui/#/?url...</td>\n",
       "      <td>NaN</td>\n",
       "      <td>NaN</td>\n",
       "    </tr>\n",
       "  </tbody>\n",
       "</table>\n",
       "</div>"
      ],
      "text/plain": [
       "              schema   dir         basename  \\\n",
       "0  core-participants  core     participants   \n",
       "1           core-beh  core         behavior   \n",
       "2           core-rep  core  reproducibility   \n",
       "3          core-data  core     data_sharing   \n",
       "4         mri-allseq   mri    all_sequences   \n",
       "\n",
       "                                      google_id  sheet_id  \\\n",
       "0  1pshzE4tXvj294-S-rRVlf9XpczFq2bkj2P3C7xGgzjs       NaN   \n",
       "1  1P0BQcM0889YTBFSoY8-E0vfdp0psrl7vyHBAW0fSmqs       NaN   \n",
       "2  1aucpZDoav8lb2QI4YlIppNBN0FwSikV-2diQmrJCI-4       NaN   \n",
       "3  1yoI37se8nfWKNdKBCd-VgK1zDTdf4JR--m8apZ9iPR8       NaN   \n",
       "4  16LhsvrEKOzkNsXGLGlYZsH9h4aZ1hyt_BORmxkndaiI       NaN   \n",
       "\n",
       "                                                link  \\\n",
       "0  https://docs.google.com/spreadsheets/d/1pshzE4...   \n",
       "1  https://docs.google.com/spreadsheets/d/1P0BQcM...   \n",
       "2  https://docs.google.com/spreadsheets/d/1aucpZD...   \n",
       "3  https://docs.google.com/spreadsheets/d/1yoI37s...   \n",
       "4  https://docs.google.com/spreadsheets/d/16Lhsvr...   \n",
       "\n",
       "                                            citation  \\\n",
       "0  http://www.humanbrainmapping.org/files/2016/CO...   \n",
       "1  http://www.humanbrainmapping.org/files/2016/CO...   \n",
       "2  http://www.humanbrainmapping.org/files/2016/CO...   \n",
       "3  http://www.humanbrainmapping.org/files/2016/CO...   \n",
       "4  http://www.humanbrainmapping.org/files/2016/CO...   \n",
       "\n",
       "                                            app link landing page repo  \n",
       "0  https://www.repronim.org/reproschema-ui/#/?url...          NaN  NaN  \n",
       "1  https://www.repronim.org/reproschema-ui/#/?url...          NaN  NaN  \n",
       "2                                                NaN          NaN  NaN  \n",
       "3                                                NaN          NaN  NaN  \n",
       "4  https://www.repronim.org/reproschema-ui/#/?url...          NaN  NaN  "
      ]
     },
     "execution_count": 2,
     "metadata": {},
     "output_type": "execute_result"
    }
   ],
   "source": [
    "input_path = os.path.join(\"..\", \"ecobidas\", \"inputs\", \"csv\")\n",
    "input_file = os.path.join(input_path, \"spreadsheet_google_id.tsv\")\n",
    "df = pd.read_csv(input_file, sep=\"\\t\")\n",
    "df.head()"
   ]
  },
  {
   "cell_type": "code",
   "execution_count": 3,
   "metadata": {},
   "outputs": [
    {
     "data": {
      "text/plain": [
       "['mri_softwares',\n",
       " 'stimulus_presentation_softwares',\n",
       " 'multiple_comparisons',\n",
       " 'interpolations',\n",
       " 'cost_functions',\n",
       " 'meeg_reference_electrodes',\n",
       " 'meeg_analysis_softwares',\n",
       " 'meeg_amplifier_brands',\n",
       " 'meeg_acquisition_softwares',\n",
       " 'eeg_cap_types',\n",
       " 'boolean',\n",
       " 'spm_version',\n",
       " 'linux_version',\n",
       " 'type_os',\n",
       " 'windows_version',\n",
       " 'macos_version',\n",
       " 'eyetracker_preproc_softwares',\n",
       " 'eyetracker_model_name',\n",
       " 'eyetracker_producer']"
      ]
     },
     "execution_count": 3,
     "metadata": {},
     "output_type": "execute_result"
    }
   ],
   "source": [
    "is_response_option = df[\"dir\"] == \"response_options\"\n",
    "reponse_options = df[is_response_option]\n",
    "list(reponse_options[\"basename\"])"
   ]
  },
  {
   "cell_type": "code",
   "execution_count": 4,
   "metadata": {},
   "outputs": [
    {
     "name": "stdout",
     "output_type": "stream",
     "text": [
      "['resp-mri_soft', 'resp-pres_soft', 'resp-multiple_comp', 'resp-interp', 'resp-cost_functions', 'resp-meeg_ref', 'resp-meeg_analysis_soft', 'resp-meeg_amplifier_brands', 'resp-meeg_acq_softwares', 'resp-eeg_cap_types', 'resp-boolean', 'resp-ver-spm', 'resp-ver-linux', 'resp-type-os', 'resp-ver-windows', 'resp-ver-macos', 'resp-eye_preproc_soft', 'resp-eye_model', 'resp-eye_producer']\n"
     ]
    }
   ],
   "source": [
    "schema = \"resp\"\n",
    "response_lists = df[df[\"schema\"].str.match(r\"(^\"+schema+\".*)\") == True]\n",
    "files = list(response_lists[\"schema\"])\n",
    "print(files)"
   ]
  },
  {
   "cell_type": "code",
   "execution_count": 9,
   "metadata": {},
   "outputs": [
    {
     "data": {
      "text/plain": [
       "[nan]"
      ]
     },
     "execution_count": 9,
     "metadata": {},
     "output_type": "execute_result"
    }
   ],
   "source": [
    "is_test = df[\"schema\"] == \"test\"\n",
    "test = df[is_test]\n",
    "list(test[\"citation\"])"
   ]
  },
  {
   "cell_type": "code",
   "execution_count": 12,
   "metadata": {},
   "outputs": [],
   "source": [
    "preamble = \"1\"\n",
    "if not preamble:\n",
    "   print(preamble)"
   ]
  }
 ],
 "metadata": {
  "kernelspec": {
   "display_name": "Python 3",
   "language": "python",
   "name": "python3"
  },
  "language_info": {
   "codemirror_mode": {
    "name": "ipython",
    "version": 3
   },
   "file_extension": ".py",
   "mimetype": "text/x-python",
   "name": "python",
   "nbconvert_exporter": "python",
   "pygments_lexer": "ipython3",
   "version": "3.6.9"
  }
 },
 "nbformat": 4,
 "nbformat_minor": 4
}
