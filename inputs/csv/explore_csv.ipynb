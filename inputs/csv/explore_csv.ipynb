{
 "cells": [
  {
   "cell_type": "code",
   "execution_count": 4,
   "metadata": {},
   "outputs": [],
   "source": [
    "import pandas as pd"
   ]
  },
  {
   "cell_type": "code",
   "execution_count": 10,
   "metadata": {
    "scrolled": true
   },
   "outputs": [
    {
     "name": "stdout",
     "output_type": "stream",
     "text": [
      "artemis.csv           meeg_processing.csv            participants.csv\r\n",
      "artemis.json          meeg_reporting.csv             participants.json\r\n",
      "behavior.csv          meeg_statistical_analysis.csv  pet.csv\r\n",
      "behavior.json         mri_acquisition.csv            pet.json\r\n",
      "CLAIM.tsv             mri_all_sequences.csv          README.md\r\n",
      "CRED-nf.tsv           mri_all_sequences.json         reexec_nimg.csv\r\n",
      "data-dictionary.json  mri_design.csv                 reexec_nimg.json\r\n",
      "data_sharing.csv      mri_modelling_inference.csv    reproducibility.csv\r\n",
      "eyetracker.csv        mri_preprocessing.csv          spreadsheet_google_id.txt\r\n",
      "eyetracker.json       mri_results.csv                test_data.csv\r\n",
      "meeg_acquisition.csv  neurovault.csv                 test_data.json\r\n",
      "meeg_design.csv       neurovault.json                Untitled.ipynb\r\n"
     ]
    }
   ],
   "source": [
    "ls"
   ]
  },
  {
   "cell_type": "code",
   "execution_count": 5,
   "metadata": {},
   "outputs": [],
   "source": [
    "df = pd.read_csv(\"neurovault.csv\")"
   ]
  },
  {
   "cell_type": "code",
   "execution_count": 7,
   "metadata": {},
   "outputs": [
    {
     "data": {
      "text/plain": [
       "duplicate                int64\n",
       "activity_order           int64\n",
       "include                  int64\n",
       "activity_pref_label     object\n",
       "item_pref_label         object\n",
       "item_description        object\n",
       "item_order               int64\n",
       "mandatory              float64\n",
       "visibility              object\n",
       "question                object\n",
       "field_type              object\n",
       "choices                 object\n",
       "unit                   float64\n",
       "bids_status            float64\n",
       "bids_file              float64\n",
       "bids_key               float64\n",
       "bids_key_for_unit      float64\n",
       "dtype: object"
      ]
     },
     "execution_count": 7,
     "metadata": {},
     "output_type": "execute_result"
    }
   ],
   "source": [
    "list(df.columns)\n",
    "df.dtypes"
   ]
  },
  {
   "cell_type": "markdown",
   "metadata": {},
   "source": [
    "Unique activities that we get from the `activity_order` column"
   ]
  },
  {
   "cell_type": "code",
   "execution_count": 30,
   "metadata": {},
   "outputs": [],
   "source": [
    "activities = df.activity_order.unique()\n",
    "activity_idx = 0"
   ]
  },
  {
   "cell_type": "markdown",
   "metadata": {},
   "source": [
    "Only show the items of a given activity"
   ]
  },
  {
   "cell_type": "code",
   "execution_count": 41,
   "metadata": {},
   "outputs": [],
   "source": [
    "this_activity =  df['activity_order']==activities[activity_idx]\n",
    "items = df[this_activity]"
   ]
  },
  {
   "cell_type": "code",
   "execution_count": 56,
   "metadata": {},
   "outputs": [
    {
     "data": {
      "text/plain": [
       "'experimental_design'"
      ]
     },
     "execution_count": 56,
     "metadata": {},
     "output_type": "execute_result"
    }
   ],
   "source": [
    "activity_name = items.activity_pref_label.unique()\n",
    "activity_name[0].lower().replace(\" \", \"_\")\n",
    "\n",
    "#items"
   ]
  },
  {
   "cell_type": "code",
   "execution_count": 1,
   "metadata": {},
   "outputs": [],
   "source": [
    "a = \"1\"\n"
   ]
  },
  {
   "cell_type": "markdown",
   "metadata": {},
   "source": [
    "Only keep items to include"
   ]
  },
  {
   "cell_type": "code",
   "execution_count": 33,
   "metadata": {},
   "outputs": [],
   "source": [
    "included_items =  items['include']==1\n",
    "items = items[included_items]"
   ]
  },
  {
   "cell_type": "code",
   "execution_count": 34,
   "metadata": {},
   "outputs": [
    {
     "data": {
      "text/html": [
       "<div>\n",
       "<style scoped>\n",
       "    .dataframe tbody tr th:only-of-type {\n",
       "        vertical-align: middle;\n",
       "    }\n",
       "\n",
       "    .dataframe tbody tr th {\n",
       "        vertical-align: top;\n",
       "    }\n",
       "\n",
       "    .dataframe thead th {\n",
       "        text-align: right;\n",
       "    }\n",
       "</style>\n",
       "<table border=\"1\" class=\"dataframe\">\n",
       "  <thead>\n",
       "    <tr style=\"text-align: right;\">\n",
       "      <th></th>\n",
       "      <th>duplicate</th>\n",
       "      <th>activity_order</th>\n",
       "      <th>include</th>\n",
       "      <th>activity_pref_label</th>\n",
       "      <th>item_pref_label</th>\n",
       "      <th>item_description</th>\n",
       "      <th>item_order</th>\n",
       "      <th>mandatory</th>\n",
       "      <th>visibility</th>\n",
       "      <th>question</th>\n",
       "      <th>field_type</th>\n",
       "      <th>choices</th>\n",
       "      <th>unit</th>\n",
       "      <th>bids_status</th>\n",
       "      <th>bids_file</th>\n",
       "      <th>bids_key</th>\n",
       "      <th>bids_key_for_unit</th>\n",
       "    </tr>\n",
       "  </thead>\n",
       "  <tbody>\n",
       "    <tr>\n",
       "      <th>0</th>\n",
       "      <td>0</td>\n",
       "      <td>1</td>\n",
       "      <td>1</td>\n",
       "      <td>Experimental design</td>\n",
       "      <td>type of design</td>\n",
       "      <td>type of design</td>\n",
       "      <td>1</td>\n",
       "      <td>1.0</td>\n",
       "      <td>1</td>\n",
       "      <td>Type of design</td>\n",
       "      <td>radio</td>\n",
       "      <td>blocked | event_related | hybrid block/event</td>\n",
       "      <td>NaN</td>\n",
       "      <td>NaN</td>\n",
       "      <td>NaN</td>\n",
       "      <td>NaN</td>\n",
       "      <td>NaN</td>\n",
       "    </tr>\n",
       "    <tr>\n",
       "      <th>1</th>\n",
       "      <td>0</td>\n",
       "      <td>1</td>\n",
       "      <td>1</td>\n",
       "      <td>Experimental design</td>\n",
       "      <td>number of imaging runs</td>\n",
       "      <td>number of imaging runs</td>\n",
       "      <td>2</td>\n",
       "      <td>2.0</td>\n",
       "      <td>1</td>\n",
       "      <td>Number of imaging runs acquired</td>\n",
       "      <td>int</td>\n",
       "      <td>NaN</td>\n",
       "      <td>NaN</td>\n",
       "      <td>NaN</td>\n",
       "      <td>NaN</td>\n",
       "      <td>NaN</td>\n",
       "      <td>NaN</td>\n",
       "    </tr>\n",
       "    <tr>\n",
       "      <th>2</th>\n",
       "      <td>0</td>\n",
       "      <td>1</td>\n",
       "      <td>1</td>\n",
       "      <td>Experimental design</td>\n",
       "      <td>number of experimental units</td>\n",
       "      <td>number of experimental units</td>\n",
       "      <td>3</td>\n",
       "      <td>2.0</td>\n",
       "      <td>1</td>\n",
       "      <td>Number of blocks, trials or experimental units...</td>\n",
       "      <td>int</td>\n",
       "      <td>NaN</td>\n",
       "      <td>NaN</td>\n",
       "      <td>NaN</td>\n",
       "      <td>NaN</td>\n",
       "      <td>NaN</td>\n",
       "      <td>NaN</td>\n",
       "    </tr>\n",
       "    <tr>\n",
       "      <th>3</th>\n",
       "      <td>0</td>\n",
       "      <td>1</td>\n",
       "      <td>1</td>\n",
       "      <td>Experimental design</td>\n",
       "      <td>length of runs</td>\n",
       "      <td>length of runs</td>\n",
       "      <td>4</td>\n",
       "      <td>2.0</td>\n",
       "      <td>1</td>\n",
       "      <td>Length of each imaging run in seconds</td>\n",
       "      <td>float</td>\n",
       "      <td>NaN</td>\n",
       "      <td>NaN</td>\n",
       "      <td>NaN</td>\n",
       "      <td>NaN</td>\n",
       "      <td>NaN</td>\n",
       "      <td>NaN</td>\n",
       "    </tr>\n",
       "    <tr>\n",
       "      <th>4</th>\n",
       "      <td>0</td>\n",
       "      <td>1</td>\n",
       "      <td>1</td>\n",
       "      <td>Experimental design</td>\n",
       "      <td>length of blocks</td>\n",
       "      <td>length of blocks</td>\n",
       "      <td>5</td>\n",
       "      <td>2.0</td>\n",
       "      <td>1</td>\n",
       "      <td>For blocked designs, length of blocks in seconds</td>\n",
       "      <td>float</td>\n",
       "      <td>NaN</td>\n",
       "      <td>NaN</td>\n",
       "      <td>NaN</td>\n",
       "      <td>NaN</td>\n",
       "      <td>NaN</td>\n",
       "      <td>NaN</td>\n",
       "    </tr>\n",
       "    <tr>\n",
       "      <th>5</th>\n",
       "      <td>0</td>\n",
       "      <td>1</td>\n",
       "      <td>1</td>\n",
       "      <td>Experimental design</td>\n",
       "      <td>length of trials</td>\n",
       "      <td>length of trials</td>\n",
       "      <td>6</td>\n",
       "      <td>2.0</td>\n",
       "      <td>1</td>\n",
       "      <td>Length of individual trials in seconds</td>\n",
       "      <td>float</td>\n",
       "      <td>NaN</td>\n",
       "      <td>NaN</td>\n",
       "      <td>NaN</td>\n",
       "      <td>NaN</td>\n",
       "      <td>NaN</td>\n",
       "      <td>NaN</td>\n",
       "    </tr>\n",
       "    <tr>\n",
       "      <th>6</th>\n",
       "      <td>0</td>\n",
       "      <td>1</td>\n",
       "      <td>1</td>\n",
       "      <td>Experimental design</td>\n",
       "      <td>optimization</td>\n",
       "      <td>optimization</td>\n",
       "      <td>7</td>\n",
       "      <td>2.0</td>\n",
       "      <td>1</td>\n",
       "      <td>Was the design optimized for efficiency?</td>\n",
       "      <td>boolean</td>\n",
       "      <td>NaN</td>\n",
       "      <td>NaN</td>\n",
       "      <td>NaN</td>\n",
       "      <td>NaN</td>\n",
       "      <td>NaN</td>\n",
       "      <td>NaN</td>\n",
       "    </tr>\n",
       "    <tr>\n",
       "      <th>7</th>\n",
       "      <td>0</td>\n",
       "      <td>1</td>\n",
       "      <td>1</td>\n",
       "      <td>Experimental design</td>\n",
       "      <td>optimization method</td>\n",
       "      <td>optimization method</td>\n",
       "      <td>8</td>\n",
       "      <td>3.0</td>\n",
       "      <td>optimization == 1</td>\n",
       "      <td>What method was used for optimization?</td>\n",
       "      <td>char</td>\n",
       "      <td>NaN</td>\n",
       "      <td>NaN</td>\n",
       "      <td>NaN</td>\n",
       "      <td>NaN</td>\n",
       "      <td>NaN</td>\n",
       "      <td>NaN</td>\n",
       "    </tr>\n",
       "  </tbody>\n",
       "</table>\n",
       "</div>"
      ],
      "text/plain": [
       "   duplicate  activity_order  include  activity_pref_label  \\\n",
       "0          0               1        1  Experimental design   \n",
       "1          0               1        1  Experimental design   \n",
       "2          0               1        1  Experimental design   \n",
       "3          0               1        1  Experimental design   \n",
       "4          0               1        1  Experimental design   \n",
       "5          0               1        1  Experimental design   \n",
       "6          0               1        1  Experimental design   \n",
       "7          0               1        1  Experimental design   \n",
       "\n",
       "                item_pref_label              item_description  item_order  \\\n",
       "0                type of design                type of design           1   \n",
       "1        number of imaging runs        number of imaging runs           2   \n",
       "2  number of experimental units  number of experimental units           3   \n",
       "3                length of runs                length of runs           4   \n",
       "4              length of blocks              length of blocks           5   \n",
       "5              length of trials              length of trials           6   \n",
       "6                  optimization                  optimization           7   \n",
       "7           optimization method           optimization method           8   \n",
       "\n",
       "   mandatory         visibility  \\\n",
       "0        1.0                  1   \n",
       "1        2.0                  1   \n",
       "2        2.0                  1   \n",
       "3        2.0                  1   \n",
       "4        2.0                  1   \n",
       "5        2.0                  1   \n",
       "6        2.0                  1   \n",
       "7        3.0  optimization == 1   \n",
       "\n",
       "                                            question field_type  \\\n",
       "0                                     Type of design      radio   \n",
       "1                    Number of imaging runs acquired        int   \n",
       "2  Number of blocks, trials or experimental units...        int   \n",
       "3              Length of each imaging run in seconds      float   \n",
       "4   For blocked designs, length of blocks in seconds      float   \n",
       "5             Length of individual trials in seconds      float   \n",
       "6           Was the design optimized for efficiency?    boolean   \n",
       "7             What method was used for optimization?       char   \n",
       "\n",
       "                                        choices  unit  bids_status  bids_file  \\\n",
       "0  blocked | event_related | hybrid block/event   NaN          NaN        NaN   \n",
       "1                                           NaN   NaN          NaN        NaN   \n",
       "2                                           NaN   NaN          NaN        NaN   \n",
       "3                                           NaN   NaN          NaN        NaN   \n",
       "4                                           NaN   NaN          NaN        NaN   \n",
       "5                                           NaN   NaN          NaN        NaN   \n",
       "6                                           NaN   NaN          NaN        NaN   \n",
       "7                                           NaN   NaN          NaN        NaN   \n",
       "\n",
       "   bids_key  bids_key_for_unit  \n",
       "0       NaN                NaN  \n",
       "1       NaN                NaN  \n",
       "2       NaN                NaN  \n",
       "3       NaN                NaN  \n",
       "4       NaN                NaN  \n",
       "5       NaN                NaN  \n",
       "6       NaN                NaN  \n",
       "7       NaN                NaN  "
      ]
     },
     "execution_count": 34,
     "metadata": {},
     "output_type": "execute_result"
    }
   ],
   "source": [
    "items"
   ]
  },
  {
   "cell_type": "code",
   "execution_count": 35,
   "metadata": {},
   "outputs": [
    {
     "data": {
      "text/plain": [
       "array([1, 2, 3, 4, 5, 6, 7, 8])"
      ]
     },
     "execution_count": 35,
     "metadata": {},
     "output_type": "execute_result"
    }
   ],
   "source": [
    "items_order = items.item_order.unique()\n",
    "items_order"
   ]
  },
  {
   "cell_type": "code",
   "execution_count": 62,
   "metadata": {},
   "outputs": [
    {
     "name": "stdout",
     "output_type": "stream",
     "text": [
      "1\n",
      "Experimental design\n",
      "2\n",
      "Experimental design\n",
      "3\n",
      "Experimental design\n",
      "4\n",
      "Experimental design\n",
      "5\n",
      "Experimental design\n",
      "6\n",
      "Experimental design\n",
      "7\n",
      "Experimental design\n",
      "8\n",
      "Experimental design\n"
     ]
    }
   ],
   "source": [
    "for index in items_order:\n",
    "    print(index)\n",
    "    this_item = items[items[\"item_order\"]==index]\n",
    "    print(this_item[\"activity_pref_label\"].tolist()[0])\n"
   ]
  }
 ],
 "metadata": {
  "kernelspec": {
   "display_name": "Python 3",
   "language": "python",
   "name": "python3"
  },
  "language_info": {
   "codemirror_mode": {
    "name": "ipython",
    "version": 3
   },
   "file_extension": ".py",
   "mimetype": "text/x-python",
   "name": "python",
   "nbconvert_exporter": "python",
   "pygments_lexer": "ipython3",
   "version": "3.6.9"
  }
 },
 "nbformat": 4,
 "nbformat_minor": 4
}
