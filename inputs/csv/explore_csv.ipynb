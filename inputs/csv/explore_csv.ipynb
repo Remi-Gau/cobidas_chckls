{
 "cells": [
  {
   "cell_type": "code",
   "execution_count": 1,
   "metadata": {},
   "outputs": [],
   "source": [
    "import pandas as pd"
   ]
  },
  {
   "cell_type": "code",
   "execution_count": 97,
   "metadata": {
    "scrolled": true
   },
   "outputs": [
    {
     "name": "stdout",
     "output_type": "stream",
     "text": [
      "acquisition.tsv                 hardware.tsv       visualization.tsv\r\n",
      "channel_electrode_choice.tsv    measurements.tsv\r\n",
      "experimental_design_sample.tsv  preprocessing.tsv\r\n"
     ]
    }
   ],
   "source": [
    "ls artemis/"
   ]
  },
  {
   "cell_type": "code",
   "execution_count": 66,
   "metadata": {},
   "outputs": [],
   "source": [
    "df = pd.read_csv(\"artemis/visualization.tsv\", sep=\"\\t\")"
   ]
  },
  {
   "cell_type": "code",
   "execution_count": 67,
   "metadata": {},
   "outputs": [
    {
     "data": {
      "text/plain": [
       "question                object\n",
       "details                float64\n",
       "field_type              object\n",
       "choices                 object\n",
       "item_pref_label         object\n",
       "visibility              object\n",
       "item_order               int64\n",
       "include                  int64\n",
       "mandatory                int64\n",
       "activity                object\n",
       "sub-section             object\n",
       "activity_pref_label     object\n",
       "activity_order           int64\n",
       "unit                   float64\n",
       "dtype: object"
      ]
     },
     "execution_count": 67,
     "metadata": {},
     "output_type": "execute_result"
    }
   ],
   "source": [
    "list(df.columns)\n",
    "df.dtypes"
   ]
  },
  {
   "cell_type": "code",
   "execution_count": 68,
   "metadata": {},
   "outputs": [
    {
     "data": {
      "text/html": [
       "<div>\n",
       "<style scoped>\n",
       "    .dataframe tbody tr th:only-of-type {\n",
       "        vertical-align: middle;\n",
       "    }\n",
       "\n",
       "    .dataframe tbody tr th {\n",
       "        vertical-align: top;\n",
       "    }\n",
       "\n",
       "    .dataframe thead th {\n",
       "        text-align: right;\n",
       "    }\n",
       "</style>\n",
       "<table border=\"1\" class=\"dataframe\">\n",
       "  <thead>\n",
       "    <tr style=\"text-align: right;\">\n",
       "      <th></th>\n",
       "      <th>question</th>\n",
       "      <th>details</th>\n",
       "      <th>field_type</th>\n",
       "      <th>choices</th>\n",
       "      <th>item_pref_label</th>\n",
       "      <th>visibility</th>\n",
       "      <th>item_order</th>\n",
       "      <th>include</th>\n",
       "      <th>mandatory</th>\n",
       "      <th>activity</th>\n",
       "      <th>sub-section</th>\n",
       "      <th>activity_pref_label</th>\n",
       "      <th>activity_order</th>\n",
       "      <th>unit</th>\n",
       "    </tr>\n",
       "  </thead>\n",
       "  <tbody>\n",
       "    <tr>\n",
       "      <th>0</th>\n",
       "      <td>Did you apply any procedures for visualisation...</td>\n",
       "      <td>NaN</td>\n",
       "      <td>radio</td>\n",
       "      <td>preset:boolean</td>\n",
       "      <td>visualisation only procedures</td>\n",
       "      <td>1</td>\n",
       "      <td>1</td>\n",
       "      <td>1</td>\n",
       "      <td>1</td>\n",
       "      <td>results</td>\n",
       "      <td>visualization</td>\n",
       "      <td>visualization</td>\n",
       "      <td>7</td>\n",
       "      <td>NaN</td>\n",
       "    </tr>\n",
       "    <tr>\n",
       "      <th>1</th>\n",
       "      <td>Please specify</td>\n",
       "      <td>NaN</td>\n",
       "      <td>text</td>\n",
       "      <td>NaN</td>\n",
       "      <td>specify visualisation</td>\n",
       "      <td>visualisation_only_procedures == 1</td>\n",
       "      <td>2</td>\n",
       "      <td>1</td>\n",
       "      <td>1</td>\n",
       "      <td>results</td>\n",
       "      <td>visualization</td>\n",
       "      <td>visualization</td>\n",
       "      <td>7</td>\n",
       "      <td>NaN</td>\n",
       "    </tr>\n",
       "    <tr>\n",
       "      <th>2</th>\n",
       "      <td>What do the waveforms represent ?</td>\n",
       "      <td>NaN</td>\n",
       "      <td>select</td>\n",
       "      <td>single waves | difference waves | both | other</td>\n",
       "      <td>waveforms represent</td>\n",
       "      <td>1</td>\n",
       "      <td>3</td>\n",
       "      <td>1</td>\n",
       "      <td>1</td>\n",
       "      <td>results</td>\n",
       "      <td>visualization</td>\n",
       "      <td>visualization</td>\n",
       "      <td>7</td>\n",
       "      <td>NaN</td>\n",
       "    </tr>\n",
       "    <tr>\n",
       "      <th>3</th>\n",
       "      <td>Please specify which conditions and groups are...</td>\n",
       "      <td>NaN</td>\n",
       "      <td>text</td>\n",
       "      <td>NaN</td>\n",
       "      <td>specify waveforms</td>\n",
       "      <td>NaN</td>\n",
       "      <td>4</td>\n",
       "      <td>1</td>\n",
       "      <td>1</td>\n",
       "      <td>results</td>\n",
       "      <td>visualization</td>\n",
       "      <td>visualization</td>\n",
       "      <td>7</td>\n",
       "      <td>NaN</td>\n",
       "    </tr>\n",
       "    <tr>\n",
       "      <th>4</th>\n",
       "      <td>Rationale for selection of channel locations u...</td>\n",
       "      <td>NaN</td>\n",
       "      <td>text</td>\n",
       "      <td>NaN</td>\n",
       "      <td>channel location rationale</td>\n",
       "      <td>1</td>\n",
       "      <td>5</td>\n",
       "      <td>1</td>\n",
       "      <td>1</td>\n",
       "      <td>results</td>\n",
       "      <td>visualization</td>\n",
       "      <td>visualization</td>\n",
       "      <td>7</td>\n",
       "      <td>NaN</td>\n",
       "    </tr>\n",
       "  </tbody>\n",
       "</table>\n",
       "</div>"
      ],
      "text/plain": [
       "                                            question  details field_type  \\\n",
       "0  Did you apply any procedures for visualisation...      NaN      radio   \n",
       "1                                     Please specify      NaN       text   \n",
       "2                  What do the waveforms represent ?      NaN     select   \n",
       "3  Please specify which conditions and groups are...      NaN       text   \n",
       "4  Rationale for selection of channel locations u...      NaN       text   \n",
       "\n",
       "                                          choices  \\\n",
       "0                                  preset:boolean   \n",
       "1                                             NaN   \n",
       "2  single waves | difference waves | both | other   \n",
       "3                                             NaN   \n",
       "4                                             NaN   \n",
       "\n",
       "                 item_pref_label                          visibility  \\\n",
       "0  visualisation only procedures                                   1   \n",
       "1          specify visualisation  visualisation_only_procedures == 1   \n",
       "2            waveforms represent                                   1   \n",
       "3              specify waveforms                                 NaN   \n",
       "4     channel location rationale                                   1   \n",
       "\n",
       "   item_order  include  mandatory activity    sub-section activity_pref_label  \\\n",
       "0           1        1          1  results  visualization       visualization   \n",
       "1           2        1          1  results  visualization       visualization   \n",
       "2           3        1          1  results  visualization       visualization   \n",
       "3           4        1          1  results  visualization       visualization   \n",
       "4           5        1          1  results  visualization       visualization   \n",
       "\n",
       "   activity_order  unit  \n",
       "0               7   NaN  \n",
       "1               7   NaN  \n",
       "2               7   NaN  \n",
       "3               7   NaN  \n",
       "4               7   NaN  "
      ]
     },
     "execution_count": 68,
     "metadata": {},
     "output_type": "execute_result"
    }
   ],
   "source": [
    "df.head()"
   ]
  },
  {
   "cell_type": "markdown",
   "metadata": {},
   "source": [
    "Unique activities that we get from the `activity_order` column"
   ]
  },
  {
   "cell_type": "code",
   "execution_count": 69,
   "metadata": {},
   "outputs": [
    {
     "name": "stdout",
     "output_type": "stream",
     "text": [
      "[7 8]\n"
     ]
    }
   ],
   "source": [
    "activities = df.activity_order.unique()\n",
    "print(activities)\n",
    "activity_idx = 0"
   ]
  },
  {
   "cell_type": "markdown",
   "metadata": {},
   "source": [
    "Only show the items of a given activity"
   ]
  },
  {
   "cell_type": "code",
   "execution_count": 70,
   "metadata": {},
   "outputs": [],
   "source": [
    "this_activity =  df['activity_order']==activities[activity_idx]\n",
    "items = df[this_activity]"
   ]
  },
  {
   "cell_type": "code",
   "execution_count": 71,
   "metadata": {},
   "outputs": [
    {
     "data": {
      "text/plain": [
       "'visualization'"
      ]
     },
     "execution_count": 71,
     "metadata": {},
     "output_type": "execute_result"
    }
   ],
   "source": [
    "activity_name = items.activity_pref_label.unique()\n",
    "activity_name[0].lower().replace(\" \", \"_\")\n",
    "\n",
    "#items"
   ]
  },
  {
   "cell_type": "markdown",
   "metadata": {},
   "source": [
    "Only keep items to include"
   ]
  },
  {
   "cell_type": "code",
   "execution_count": 72,
   "metadata": {},
   "outputs": [],
   "source": [
    "included_items =  items['include']==1\n",
    "items = items[included_items]"
   ]
  },
  {
   "cell_type": "code",
   "execution_count": 73,
   "metadata": {},
   "outputs": [
    {
     "data": {
      "text/html": [
       "<div>\n",
       "<style scoped>\n",
       "    .dataframe tbody tr th:only-of-type {\n",
       "        vertical-align: middle;\n",
       "    }\n",
       "\n",
       "    .dataframe tbody tr th {\n",
       "        vertical-align: top;\n",
       "    }\n",
       "\n",
       "    .dataframe thead th {\n",
       "        text-align: right;\n",
       "    }\n",
       "</style>\n",
       "<table border=\"1\" class=\"dataframe\">\n",
       "  <thead>\n",
       "    <tr style=\"text-align: right;\">\n",
       "      <th></th>\n",
       "      <th>question</th>\n",
       "      <th>details</th>\n",
       "      <th>field_type</th>\n",
       "      <th>choices</th>\n",
       "      <th>item_pref_label</th>\n",
       "      <th>visibility</th>\n",
       "      <th>item_order</th>\n",
       "      <th>include</th>\n",
       "      <th>mandatory</th>\n",
       "      <th>activity</th>\n",
       "      <th>sub-section</th>\n",
       "      <th>activity_pref_label</th>\n",
       "      <th>activity_order</th>\n",
       "      <th>unit</th>\n",
       "    </tr>\n",
       "  </thead>\n",
       "  <tbody>\n",
       "    <tr>\n",
       "      <th>0</th>\n",
       "      <td>Did you apply any procedures for visualisation...</td>\n",
       "      <td>NaN</td>\n",
       "      <td>radio</td>\n",
       "      <td>preset:boolean</td>\n",
       "      <td>visualisation only procedures</td>\n",
       "      <td>1</td>\n",
       "      <td>1</td>\n",
       "      <td>1</td>\n",
       "      <td>1</td>\n",
       "      <td>results</td>\n",
       "      <td>visualization</td>\n",
       "      <td>visualization</td>\n",
       "      <td>7</td>\n",
       "      <td>NaN</td>\n",
       "    </tr>\n",
       "    <tr>\n",
       "      <th>1</th>\n",
       "      <td>Please specify</td>\n",
       "      <td>NaN</td>\n",
       "      <td>text</td>\n",
       "      <td>NaN</td>\n",
       "      <td>specify visualisation</td>\n",
       "      <td>visualisation_only_procedures == 1</td>\n",
       "      <td>2</td>\n",
       "      <td>1</td>\n",
       "      <td>1</td>\n",
       "      <td>results</td>\n",
       "      <td>visualization</td>\n",
       "      <td>visualization</td>\n",
       "      <td>7</td>\n",
       "      <td>NaN</td>\n",
       "    </tr>\n",
       "    <tr>\n",
       "      <th>2</th>\n",
       "      <td>What do the waveforms represent ?</td>\n",
       "      <td>NaN</td>\n",
       "      <td>select</td>\n",
       "      <td>single waves | difference waves | both | other</td>\n",
       "      <td>waveforms represent</td>\n",
       "      <td>1</td>\n",
       "      <td>3</td>\n",
       "      <td>1</td>\n",
       "      <td>1</td>\n",
       "      <td>results</td>\n",
       "      <td>visualization</td>\n",
       "      <td>visualization</td>\n",
       "      <td>7</td>\n",
       "      <td>NaN</td>\n",
       "    </tr>\n",
       "    <tr>\n",
       "      <th>3</th>\n",
       "      <td>Please specify which conditions and groups are...</td>\n",
       "      <td>NaN</td>\n",
       "      <td>text</td>\n",
       "      <td>NaN</td>\n",
       "      <td>specify waveforms</td>\n",
       "      <td>NaN</td>\n",
       "      <td>4</td>\n",
       "      <td>1</td>\n",
       "      <td>1</td>\n",
       "      <td>results</td>\n",
       "      <td>visualization</td>\n",
       "      <td>visualization</td>\n",
       "      <td>7</td>\n",
       "      <td>NaN</td>\n",
       "    </tr>\n",
       "    <tr>\n",
       "      <th>4</th>\n",
       "      <td>Rationale for selection of channel locations u...</td>\n",
       "      <td>NaN</td>\n",
       "      <td>text</td>\n",
       "      <td>NaN</td>\n",
       "      <td>channel location rationale</td>\n",
       "      <td>1</td>\n",
       "      <td>5</td>\n",
       "      <td>1</td>\n",
       "      <td>1</td>\n",
       "      <td>results</td>\n",
       "      <td>visualization</td>\n",
       "      <td>visualization</td>\n",
       "      <td>7</td>\n",
       "      <td>NaN</td>\n",
       "    </tr>\n",
       "    <tr>\n",
       "      <th>5</th>\n",
       "      <td>What type of data do the topographic maps repr...</td>\n",
       "      <td>NaN</td>\n",
       "      <td>radio</td>\n",
       "      <td>no maps | voltage maps | voltage maps normaliz...</td>\n",
       "      <td>topoplot represent</td>\n",
       "      <td>1</td>\n",
       "      <td>6</td>\n",
       "      <td>1</td>\n",
       "      <td>1</td>\n",
       "      <td>results</td>\n",
       "      <td>visualization</td>\n",
       "      <td>visualization</td>\n",
       "      <td>7</td>\n",
       "      <td>NaN</td>\n",
       "    </tr>\n",
       "    <tr>\n",
       "      <th>6</th>\n",
       "      <td>Please specify the details about the topograph...</td>\n",
       "      <td>NaN</td>\n",
       "      <td>text</td>\n",
       "      <td>NaN</td>\n",
       "      <td>specify topoplot</td>\n",
       "      <td>topoplot_represent == topoplot_represent.length</td>\n",
       "      <td>7</td>\n",
       "      <td>1</td>\n",
       "      <td>1</td>\n",
       "      <td>results</td>\n",
       "      <td>visualization</td>\n",
       "      <td>visualization</td>\n",
       "      <td>7</td>\n",
       "      <td>NaN</td>\n",
       "    </tr>\n",
       "  </tbody>\n",
       "</table>\n",
       "</div>"
      ],
      "text/plain": [
       "                                            question  details field_type  \\\n",
       "0  Did you apply any procedures for visualisation...      NaN      radio   \n",
       "1                                     Please specify      NaN       text   \n",
       "2                  What do the waveforms represent ?      NaN     select   \n",
       "3  Please specify which conditions and groups are...      NaN       text   \n",
       "4  Rationale for selection of channel locations u...      NaN       text   \n",
       "5  What type of data do the topographic maps repr...      NaN      radio   \n",
       "6  Please specify the details about the topograph...      NaN       text   \n",
       "\n",
       "                                             choices  \\\n",
       "0                                     preset:boolean   \n",
       "1                                                NaN   \n",
       "2     single waves | difference waves | both | other   \n",
       "3                                                NaN   \n",
       "4                                                NaN   \n",
       "5  no maps | voltage maps | voltage maps normaliz...   \n",
       "6                                                NaN   \n",
       "\n",
       "                 item_pref_label  \\\n",
       "0  visualisation only procedures   \n",
       "1          specify visualisation   \n",
       "2            waveforms represent   \n",
       "3              specify waveforms   \n",
       "4     channel location rationale   \n",
       "5             topoplot represent   \n",
       "6               specify topoplot   \n",
       "\n",
       "                                        visibility  item_order  include  \\\n",
       "0                                                1           1        1   \n",
       "1               visualisation_only_procedures == 1           2        1   \n",
       "2                                                1           3        1   \n",
       "3                                              NaN           4        1   \n",
       "4                                                1           5        1   \n",
       "5                                                1           6        1   \n",
       "6  topoplot_represent == topoplot_represent.length           7        1   \n",
       "\n",
       "   mandatory activity    sub-section activity_pref_label  activity_order  unit  \n",
       "0          1  results  visualization       visualization               7   NaN  \n",
       "1          1  results  visualization       visualization               7   NaN  \n",
       "2          1  results  visualization       visualization               7   NaN  \n",
       "3          1  results  visualization       visualization               7   NaN  \n",
       "4          1  results  visualization       visualization               7   NaN  \n",
       "5          1  results  visualization       visualization               7   NaN  \n",
       "6          1  results  visualization       visualization               7   NaN  "
      ]
     },
     "execution_count": 73,
     "metadata": {},
     "output_type": "execute_result"
    }
   ],
   "source": [
    "items"
   ]
  },
  {
   "cell_type": "code",
   "execution_count": 74,
   "metadata": {},
   "outputs": [
    {
     "data": {
      "text/plain": [
       "array([1, 2, 3, 4, 5, 6, 7])"
      ]
     },
     "execution_count": 74,
     "metadata": {},
     "output_type": "execute_result"
    }
   ],
   "source": [
    "items_order = items.item_order.unique()\n",
    "items_order"
   ]
  },
  {
   "cell_type": "code",
   "execution_count": 92,
   "metadata": {},
   "outputs": [
    {
     "name": "stdout",
     "output_type": "stream",
     "text": [
      "1 visualization\n",
      "2 visualization\n",
      "3 visualization\n",
      "4 visualization\n",
      "nan\n",
      "5 visualization\n",
      "6 visualization\n",
      "7 visualization\n"
     ]
    }
   ],
   "source": [
    "for index in items_order:\n",
    "    this_item = items[items[\"item_order\"]==index]\n",
    "    pref_label = this_item[\"activity_pref_label\"].tolist()[0]\n",
    "    content = this_item[\"visibility\"].tolist()[0]\n",
    "    \n",
    "    print(str(index) + ' ' + pref_label)\n",
    "    if isinstance(content, float):\n",
    "            print(str(content))\n"
   ]
  },
  {
   "cell_type": "code",
   "execution_count": 94,
   "metadata": {},
   "outputs": [],
   "source": [
    "this_item = pd.DataFrame({\"visibility\": [float(\"nan\")]})"
   ]
  },
  {
   "cell_type": "code",
   "execution_count": null,
   "metadata": {},
   "outputs": [],
   "source": []
  }
 ],
 "metadata": {
  "kernelspec": {
   "display_name": "Python 3",
   "language": "python",
   "name": "python3"
  },
  "language_info": {
   "codemirror_mode": {
    "name": "ipython",
    "version": 3
   },
   "file_extension": ".py",
   "mimetype": "text/x-python",
   "name": "python",
   "nbconvert_exporter": "python",
   "pygments_lexer": "ipython3",
   "version": "3.6.9"
  }
 },
 "nbformat": 4,
 "nbformat_minor": 4
}
