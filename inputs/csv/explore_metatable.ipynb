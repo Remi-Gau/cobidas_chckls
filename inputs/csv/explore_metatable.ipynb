{
 "cells": [
  {
   "cell_type": "code",
   "execution_count": 1,
   "metadata": {},
   "outputs": [],
   "source": [
    "import pandas as pd"
   ]
  },
  {
   "cell_type": "code",
   "execution_count": 2,
   "metadata": {
    "scrolled": true
   },
   "outputs": [
    {
     "name": "stdout",
     "output_type": "stream",
     "text": [
      "artemis      data-dictionary.json     meeg\t  README.md\r\n",
      "CLAIM.tsv    explore_csv.ipynb\t      mri\t  reexecution\r\n",
      "core\t     explore_metatable.ipynb  neurovault  response_options\r\n",
      "CRED-nf.tsv  eyetracking\t      pet\t  spreadsheet_google_id.tsv\r\n"
     ]
    }
   ],
   "source": [
    "!ls"
   ]
  },
  {
   "cell_type": "code",
   "execution_count": 3,
   "metadata": {},
   "outputs": [
    {
     "data": {
      "text/html": [
       "<div>\n",
       "<style scoped>\n",
       "    .dataframe tbody tr th:only-of-type {\n",
       "        vertical-align: middle;\n",
       "    }\n",
       "\n",
       "    .dataframe tbody tr th {\n",
       "        vertical-align: top;\n",
       "    }\n",
       "\n",
       "    .dataframe thead th {\n",
       "        text-align: right;\n",
       "    }\n",
       "</style>\n",
       "<table border=\"1\" class=\"dataframe\">\n",
       "  <thead>\n",
       "    <tr style=\"text-align: right;\">\n",
       "      <th></th>\n",
       "      <th>schema</th>\n",
       "      <th>dir</th>\n",
       "      <th>basename</th>\n",
       "      <th>google_id</th>\n",
       "      <th>sheet_id</th>\n",
       "      <th>link</th>\n",
       "      <th>citation</th>\n",
       "      <th>app link</th>\n",
       "      <th>landing page</th>\n",
       "      <th>repo</th>\n",
       "    </tr>\n",
       "  </thead>\n",
       "  <tbody>\n",
       "    <tr>\n",
       "      <th>0</th>\n",
       "      <td>core-participants</td>\n",
       "      <td>core</td>\n",
       "      <td>participants</td>\n",
       "      <td>1pshzE4tXvj294-S-rRVlf9XpczFq2bkj2P3C7xGgzjs</td>\n",
       "      <td>NaN</td>\n",
       "      <td>https://docs.google.com/spreadsheets/d/1pshzE4...</td>\n",
       "      <td>NaN</td>\n",
       "      <td>https://www.repronim.org/reproschema-ui/#/?url...</td>\n",
       "      <td>NaN</td>\n",
       "      <td>NaN</td>\n",
       "    </tr>\n",
       "    <tr>\n",
       "      <th>1</th>\n",
       "      <td>core-beh</td>\n",
       "      <td>core</td>\n",
       "      <td>behavior</td>\n",
       "      <td>1P0BQcM0889YTBFSoY8-E0vfdp0psrl7vyHBAW0fSmqs</td>\n",
       "      <td>NaN</td>\n",
       "      <td>https://docs.google.com/spreadsheets/d/1P0BQcM...</td>\n",
       "      <td>NaN</td>\n",
       "      <td>https://www.repronim.org/reproschema-ui/#/?url...</td>\n",
       "      <td>NaN</td>\n",
       "      <td>NaN</td>\n",
       "    </tr>\n",
       "    <tr>\n",
       "      <th>2</th>\n",
       "      <td>core-rep</td>\n",
       "      <td>core</td>\n",
       "      <td>reproducibility</td>\n",
       "      <td>1aucpZDoav8lb2QI4YlIppNBN0FwSikV-2diQmrJCI-4</td>\n",
       "      <td>NaN</td>\n",
       "      <td>https://docs.google.com/spreadsheets/d/1aucpZD...</td>\n",
       "      <td>NaN</td>\n",
       "      <td>NaN</td>\n",
       "      <td>NaN</td>\n",
       "      <td>NaN</td>\n",
       "    </tr>\n",
       "    <tr>\n",
       "      <th>3</th>\n",
       "      <td>core-data</td>\n",
       "      <td>core</td>\n",
       "      <td>data_sharing</td>\n",
       "      <td>1yoI37se8nfWKNdKBCd-VgK1zDTdf4JR--m8apZ9iPR8</td>\n",
       "      <td>NaN</td>\n",
       "      <td>https://docs.google.com/spreadsheets/d/1yoI37s...</td>\n",
       "      <td>NaN</td>\n",
       "      <td>NaN</td>\n",
       "      <td>NaN</td>\n",
       "      <td>NaN</td>\n",
       "    </tr>\n",
       "    <tr>\n",
       "      <th>4</th>\n",
       "      <td>mri-allseq</td>\n",
       "      <td>mri</td>\n",
       "      <td>all_sequences</td>\n",
       "      <td>16LhsvrEKOzkNsXGLGlYZsH9h4aZ1hyt_BORmxkndaiI</td>\n",
       "      <td>NaN</td>\n",
       "      <td>https://docs.google.com/spreadsheets/d/16Lhsvr...</td>\n",
       "      <td>NaN</td>\n",
       "      <td>https://www.repronim.org/reproschema-ui/#/?url...</td>\n",
       "      <td>NaN</td>\n",
       "      <td>NaN</td>\n",
       "    </tr>\n",
       "  </tbody>\n",
       "</table>\n",
       "</div>"
      ],
      "text/plain": [
       "              schema   dir         basename  \\\n",
       "0  core-participants  core     participants   \n",
       "1           core-beh  core         behavior   \n",
       "2           core-rep  core  reproducibility   \n",
       "3          core-data  core     data_sharing   \n",
       "4         mri-allseq   mri    all_sequences   \n",
       "\n",
       "                                      google_id  sheet_id  \\\n",
       "0  1pshzE4tXvj294-S-rRVlf9XpczFq2bkj2P3C7xGgzjs       NaN   \n",
       "1  1P0BQcM0889YTBFSoY8-E0vfdp0psrl7vyHBAW0fSmqs       NaN   \n",
       "2  1aucpZDoav8lb2QI4YlIppNBN0FwSikV-2diQmrJCI-4       NaN   \n",
       "3  1yoI37se8nfWKNdKBCd-VgK1zDTdf4JR--m8apZ9iPR8       NaN   \n",
       "4  16LhsvrEKOzkNsXGLGlYZsH9h4aZ1hyt_BORmxkndaiI       NaN   \n",
       "\n",
       "                                                link citation  \\\n",
       "0  https://docs.google.com/spreadsheets/d/1pshzE4...      NaN   \n",
       "1  https://docs.google.com/spreadsheets/d/1P0BQcM...      NaN   \n",
       "2  https://docs.google.com/spreadsheets/d/1aucpZD...      NaN   \n",
       "3  https://docs.google.com/spreadsheets/d/1yoI37s...      NaN   \n",
       "4  https://docs.google.com/spreadsheets/d/16Lhsvr...      NaN   \n",
       "\n",
       "                                            app link landing page repo  \n",
       "0  https://www.repronim.org/reproschema-ui/#/?url...          NaN  NaN  \n",
       "1  https://www.repronim.org/reproschema-ui/#/?url...          NaN  NaN  \n",
       "2                                                NaN          NaN  NaN  \n",
       "3                                                NaN          NaN  NaN  \n",
       "4  https://www.repronim.org/reproschema-ui/#/?url...          NaN  NaN  "
      ]
     },
     "execution_count": 3,
     "metadata": {},
     "output_type": "execute_result"
    }
   ],
   "source": [
    "df = pd.read_csv(\"spreadsheet_google_id.tsv\", sep=\"\\t\")\n",
    "df.head()"
   ]
  },
  {
   "cell_type": "code",
   "execution_count": 5,
   "metadata": {},
   "outputs": [],
   "source": [
    "is_test = df[\"schema\"] == \"test\"\n",
    "test = df[is_test]"
   ]
  },
  {
   "cell_type": "code",
   "execution_count": 17,
   "metadata": {},
   "outputs": [
    {
     "data": {
      "text/plain": [
       "True"
      ]
     },
     "execution_count": 17,
     "metadata": {},
     "output_type": "execute_result"
    }
   ],
   "source": [
    "test[\"schema\"].tolist()[0]==\"test\""
   ]
  },
  {
   "cell_type": "code",
   "execution_count": 12,
   "metadata": {},
   "outputs": [
    {
     "data": {
      "text/plain": [
       "[True]"
      ]
     },
     "execution_count": 12,
     "metadata": {},
     "output_type": "execute_result"
    }
   ],
   "source": [
    "test[\"landing page\"].isna().tolist()"
   ]
  },
  {
   "cell_type": "code",
   "execution_count": 5,
   "metadata": {},
   "outputs": [
    {
     "data": {
      "text/plain": [
       "['mri_softwares',\n",
       " 'stimulus_presentation_softwares',\n",
       " 'multiple_comparison',\n",
       " 'interpolation',\n",
       " 'cost_function',\n",
       " 'meeg_reference_electrode',\n",
       " 'meeg_analysis_softwares',\n",
       " 'meeg_amplifier_brands',\n",
       " 'meeg_acquisition_softwares',\n",
       " 'eeg_cap_types',\n",
       " 'boolean']"
      ]
     },
     "execution_count": 5,
     "metadata": {},
     "output_type": "execute_result"
    }
   ],
   "source": [
    "is_response_option = df[\"section\"] == \"response_options\"\n",
    "reponse_options = df[is_response_option]\n",
    "list(reponse_options[\"subsection\"])"
   ]
  },
  {
   "cell_type": "code",
   "execution_count": 10,
   "metadata": {},
   "outputs": [
    {
     "data": {
      "text/plain": [
       "'vlavlo'"
      ]
     },
     "execution_count": 10,
     "metadata": {},
     "output_type": "execute_result"
    }
   ],
   "source": [
    "repo = \"vla\"\n",
    "default = [\"vlo\"]\n",
    "this_schema = \"all_sequences\"\n",
    "\n",
    "is_this_schema = df[\"subsection\"] == this_schema\n",
    "not_nan = this_schema_info[\"landing page\"].notna()\n",
    "\n",
    "this_schema_info = df[is_this_schema & not_nan]\n",
    "\n",
    "if list(this_schema_info[\"landing page\"]) == []:\n",
    "    landing_page = default\n",
    "else:\n",
    "    landing_page = list(this_schema_info[\"landing page\"])\n",
    "\n",
    "\n",
    "landing_page =  repo + landing_page[0]\n",
    "\n",
    "landing_page"
   ]
  },
  {
   "cell_type": "code",
   "execution_count": 46,
   "metadata": {},
   "outputs": [
    {
     "data": {
      "text/plain": [
       "'core'"
      ]
     },
     "execution_count": 46,
     "metadata": {},
     "output_type": "execute_result"
    }
   ],
   "source": [
    "this_schema = \"behavior\"\n",
    "\n",
    "is_this_schema = df[\"subsection\"] == this_schema\n",
    "this_schema_info = df[is_this_schema]\n",
    "\n",
    "sub_dir = list(this_schema_info[\"section\"])[0]\n",
    "\n",
    "sub_dir"
   ]
  }
 ],
 "metadata": {
  "kernelspec": {
   "display_name": "Python 3",
   "language": "python",
   "name": "python3"
  },
  "language_info": {
   "codemirror_mode": {
    "name": "ipython",
    "version": 3
   },
   "file_extension": ".py",
   "mimetype": "text/x-python",
   "name": "python",
   "nbconvert_exporter": "python",
   "pygments_lexer": "ipython3",
   "version": "3.6.9"
  }
 },
 "nbformat": 4,
 "nbformat_minor": 4
}
